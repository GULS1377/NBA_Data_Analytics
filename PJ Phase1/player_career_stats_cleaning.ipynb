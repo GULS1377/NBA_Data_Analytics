{
 "cells": [
  {
   "cell_type": "code",
   "execution_count": 1,
   "metadata": {},
   "outputs": [],
   "source": [
    "import pandas as pd\n",
    "pd.set_option('display.max_columns', None)"
   ]
  },
  {
   "cell_type": "code",
   "execution_count": 2,
   "metadata": {},
   "outputs": [
    {
     "name": "stdout",
     "output_type": "stream",
     "text": [
      "(18695, 31)\n",
      "             Name     Season  Age   Tm   Lg  Pos      G    GS    MP   FG  FGA  \\\n",
      "0  Alaa Abdelnaby     Career  NaN  NaN  NBA  NaN  256.0  53.0  12.5  2.4  4.8   \n",
      "1  Alaa Abdelnaby        NaN  NaN  NaN  NaN  NaN    NaN   NaN   NaN  NaN  NaN   \n",
      "2  Alaa Abdelnaby  2 seasons  NaN  POR  NBA  NaN  114.0   1.0  10.7  2.0  4.2   \n",
      "3  Alaa Abdelnaby  2 seasons  NaN  BOS  NBA  NaN   76.0  52.0  17.3  3.2  6.2   \n",
      "4  Alaa Abdelnaby   1 season  NaN  SAC  NBA  NaN   51.0   0.0   9.3  2.3  4.3   \n",
      "\n",
      "     FG%   3P  3PA  3P%   2P  2PA    2P%   eFG%   FT  FTA    FT%  ORB  DRB  \\\n",
      "0  0.502  0.0  0.0  0.0  2.4  4.8  0.503  0.502  0.9  1.3  0.701  1.1  2.2   \n",
      "1    NaN  NaN  NaN  NaN  NaN  NaN    NaN    NaN  NaN  NaN    NaN  NaN  NaN   \n",
      "2  0.488  0.0  0.0  NaN  2.0  4.2  0.488  0.488  0.9  1.3  0.697  0.9  2.1   \n",
      "3  0.515  0.0  0.0  NaN  3.2  6.2  0.515  0.515  1.2  1.6  0.736  1.7  2.9   \n",
      "4  0.532  0.0  0.0  0.0  2.3  4.3  0.537  0.532  0.4  0.7  0.571  0.7  1.4   \n",
      "\n",
      "   TRB  AST  STL  BLK  TOV   PF  PTS  \n",
      "0  3.3  0.3  0.3  0.3  1.0  1.9  5.7  \n",
      "1  NaN  NaN  NaN  NaN  NaN  NaN  NaN  \n",
      "2  3.1  0.4  0.3  0.2  0.8  1.5  5.0  \n",
      "3  4.6  0.3  0.3  0.3  1.3  2.4  7.6  \n",
      "4  2.1  0.3  0.3  0.2  0.8  2.0  5.0  \n"
     ]
    }
   ],
   "source": [
    "stats_names = ['Name', 'Season', 'Age', 'Tm', 'Lg', 'Pos', 'G', 'GS', 'MP', 'FG', 'FGA', 'FG%', '3P', '3PA', '3P%', '2P', '2PA',\n",
    "               '2P%', 'eFG%', 'FT', 'FTA', 'FT%', 'ORB', 'DRB', 'TRB', 'AST', 'STL', 'BLK', 'TOV', 'PF', 'PTS']\n",
    "career = pd.read_csv('player_career_stats.csv', names=stats_names, encoding='gbk')\n",
    "print(career.shape)\n",
    "print(career.head())"
   ]
  },
  {
   "cell_type": "code",
   "execution_count": 3,
   "metadata": {},
   "outputs": [
    {
     "name": "stdout",
     "output_type": "stream",
     "text": [
      "(18695, 29)\n"
     ]
    }
   ],
   "source": [
    "career.drop(columns=['Age', 'Pos'], inplace=True)\n",
    "print(career.shape)"
   ]
  },
  {
   "cell_type": "code",
   "execution_count": 4,
   "metadata": {},
   "outputs": [
    {
     "name": "stdout",
     "output_type": "stream",
     "text": [
      "(15806, 29)\n"
     ]
    }
   ],
   "source": [
    "career.dropna(thresh=2, inplace=True)\n",
    "print(career.shape)"
   ]
  },
  {
   "cell_type": "code",
   "execution_count": 5,
   "metadata": {},
   "outputs": [
    {
     "data": {
      "text/plain": [
       "Name         0\n",
       "Season     624\n",
       "Tm        5309\n",
       "Lg           0\n",
       "G           14\n",
       "GS        5181\n",
       "MP         946\n",
       "FG          22\n",
       "FGA         23\n",
       "FG%        119\n",
       "3P        3471\n",
       "3PA       3471\n",
       "3P%       5572\n",
       "2P        2819\n",
       "2PA       2819\n",
       "2P%       2946\n",
       "eFG%      2907\n",
       "FT          22\n",
       "FTA         22\n",
       "FT%        756\n",
       "ORB       2686\n",
       "DRB       2686\n",
       "TRB        812\n",
       "AST         23\n",
       "STL       3374\n",
       "BLK       3374\n",
       "TOV       3130\n",
       "PF          22\n",
       "PTS         22\n",
       "dtype: int64"
      ]
     },
     "execution_count": 5,
     "metadata": {},
     "output_type": "execute_result"
    }
   ],
   "source": [
    "career.isna().sum()"
   ]
  },
  {
   "cell_type": "code",
   "execution_count": 6,
   "metadata": {},
   "outputs": [
    {
     "name": "stdout",
     "output_type": "stream",
     "text": [
      "                    Name      Season   Tm   Lg       G     GS    MP    FG  \\\n",
      "0         Alaa Abdelnaby      Career  NaN  NBA   256.0   53.0  12.5   2.4   \n",
      "2         Alaa Abdelnaby   2 seasons  POR  NBA   114.0    1.0  10.7   2.0   \n",
      "3         Alaa Abdelnaby   2 seasons  BOS  NBA    76.0   52.0  17.3   3.2   \n",
      "4         Alaa Abdelnaby    1 season  SAC  NBA    51.0    0.0   9.3   2.3   \n",
      "5         Alaa Abdelnaby    1 season  MIL  NBA    12.0    0.0  13.3   2.2   \n",
      "6         Alaa Abdelnaby    1 season  PHI  NBA     3.0    0.0  10.0   0.3   \n",
      "7        Zaid Abdul-Aziz      Career  NaN  NBA   505.0    NaN  21.8   3.5   \n",
      "9        Zaid Abdul-Aziz   4 seasons  HOU  NBA   206.0    NaN  24.0   3.6   \n",
      "10       Zaid Abdul-Aziz   3 seasons  SEA  NBA   146.0    NaN  22.5   4.2   \n",
      "11       Zaid Abdul-Aziz   2 seasons  MIL  NBA   109.0    NaN  22.7   3.3   \n",
      "12       Zaid Abdul-Aziz    1 season  BUF  NBA    22.0    NaN   8.9   1.1   \n",
      "13       Zaid Abdul-Aziz    1 season  CIN  NBA    20.0    NaN   5.4   0.9   \n",
      "14       Zaid Abdul-Aziz    1 season  BOS  NBA     2.0    NaN  12.0   1.5   \n",
      "15   Kareem Abdul-Jabbar      Career  NaN  NBA  1560.0  625.0  36.8  10.2   \n",
      "17   Kareem Abdul-Jabbar  14 seasons  LAL  NBA  1093.0  625.0  34.3   9.1   \n",
      "18   Kareem Abdul-Jabbar   6 seasons  MIL  NBA   467.0    NaN  42.7  12.6   \n",
      "19    Mahmoud Abdul-Rauf      Career  NaN  NBA   586.0  336.0  26.7   6.0   \n",
      "21    Mahmoud Abdul-Rauf   6 seasons  DEN  NBA   439.0  285.0  28.4   6.6   \n",
      "22    Mahmoud Abdul-Rauf   2 seasons  SAC  NBA   106.0   51.0  25.1   4.8   \n",
      "23    Mahmoud Abdul-Rauf    1 season  VAN  NBA    41.0    0.0  11.9   2.9   \n",
      "24     Tariq Abdul-Wahad      Career  NaN  NBA   236.0  145.0  20.4   3.1   \n",
      "26     Tariq Abdul-Wahad   2 seasons  SAC  NBA   108.0   65.0  20.0   3.0   \n",
      "27     Tariq Abdul-Wahad   3 seasons  DEN  NBA    64.0   34.0  18.9   2.3   \n",
      "28     Tariq Abdul-Wahad    1 season  ORL  NBA    46.0   46.0  26.2   4.8   \n",
      "29     Tariq Abdul-Wahad   2 seasons  DAL  NBA    18.0    0.0  12.7   1.5   \n",
      "30   Shareef Abdur-Rahim      Career  NaN  NBA   830.0  704.0  34.8   6.5   \n",
      "32   Shareef Abdur-Rahim   5 seasons  VAN  NBA   375.0  366.0  38.0   7.4   \n",
      "33   Shareef Abdur-Rahim   3 seasons  ATL  NBA   211.0  211.0  38.0   7.3   \n",
      "34   Shareef Abdur-Rahim   3 seasons  SAC  NBA   158.0   75.0  25.5   4.1   \n",
      "35   Shareef Abdur-Rahim   2 seasons  POR  NBA    86.0   52.0  30.2   5.3   \n",
      "..                   ...         ...  ...  ...     ...    ...   ...   ...   \n",
      "83          Jaylen Adams      Career  NaN  NBA    34.0    1.0  12.6   1.1   \n",
      "84          Jordan Adams      Career  NaN  NBA    32.0    0.0   8.2   1.2   \n",
      "85         Michael Adams      Career  NaN  NBA   653.0  510.0  31.3   5.0   \n",
      "87         Michael Adams   4 seasons  DEN  NBA   304.0  292.0  34.9   6.1   \n",
      "88         Michael Adams   4 seasons  WSB  NBA   281.0  215.0  31.8   4.6   \n",
      "89         Michael Adams   2 seasons  CHH  NBA    50.0    3.0  15.4   2.1   \n",
      "90         Michael Adams    1 season  SAC  NBA    18.0    0.0   7.7   0.9   \n",
      "91          Steven Adams      Career  NaN  NBA   467.0  403.0  26.8   4.0   \n",
      "92        Rafael Addison      Career  NaN  NBA   379.0   54.0  15.0   2.4   \n",
      "94        Rafael Addison   2 seasons  NJN  NBA   144.0   23.0  16.2   2.6   \n",
      "95        Rafael Addison   2 seasons  CHH  NBA    94.0    3.0   9.3   1.3   \n",
      "96        Rafael Addison    1 season  DET  NBA    79.0   16.0  22.5   3.5   \n",
      "97        Rafael Addison    1 season  PHO  NBA    62.0   12.0  11.5   2.4   \n",
      "98           Bam Adebayo      Career  NaN  NBA   151.0   47.0  21.7   3.0   \n",
      "99             Deng Adel      Career  NaN  NBA    19.0    3.0  10.2   0.6   \n",
      "100         Rick Adelman      Career  NaN  NBA   462.0    NaN  22.6   3.0   \n",
      "102         Rick Adelman   3 seasons  POR  NBA   237.0    NaN  27.7   3.9   \n",
      "103         Rick Adelman   2 seasons  SDR  NBA   112.0    NaN  19.3   2.4   \n",
      "104         Rick Adelman   2 seasons  CHI  NBA    67.0    NaN  14.3   1.6   \n",
      "105         Rick Adelman    1 season  NOJ  NBA    28.0    NaN  21.9   2.4   \n",
      "106         Rick Adelman    1 season  KCO  NBA    18.0    NaN   6.7   0.7   \n",
      "107          Jeff Adrien      Career  NaN  NBA   153.0   17.0  14.0   1.7   \n",
      "109          Jeff Adrien   2 seasons  CHA  NBA    77.0    5.0  12.6   1.2   \n",
      "110          Jeff Adrien    1 season  MIL  NBA    28.0   12.0  25.2   4.3   \n",
      "111          Jeff Adrien    1 season  GSW  NBA    23.0    0.0   8.5   1.0   \n",
      "112          Jeff Adrien    1 season  MIN  NBA    17.0    0.0  12.6   1.1   \n",
      "113          Jeff Adrien    1 season  HOU  NBA     8.0    0.0   7.9   0.9   \n",
      "114        Arron Afflalo      Career  NaN  NBA   762.0  537.0  27.3   3.9   \n",
      "116        Arron Afflalo   4 seasons  DEN  NBA   266.0  259.0  31.5   4.5   \n",
      "117        Arron Afflalo   3 seasons  ORL  NBA   190.0  140.0  29.2   4.9   \n",
      "\n",
      "      FGA    FG%   3P  3PA    3P%    2P   2PA    2P%   eFG%   FT  FTA    FT%  \\\n",
      "0     4.8  0.502  0.0  0.0  0.000   2.4   4.8  0.503  0.502  0.9  1.3  0.701   \n",
      "2     4.2  0.488  0.0  0.0    NaN   2.0   4.2  0.488  0.488  0.9  1.3  0.697   \n",
      "3     6.2  0.515  0.0  0.0    NaN   3.2   6.2  0.515  0.515  1.2  1.6  0.736   \n",
      "4     4.3  0.532  0.0  0.0  0.000   2.3   4.3  0.537  0.532  0.4  0.7  0.571   \n",
      "5     4.7  0.464  0.0  0.1  0.000   2.2   4.6  0.473  0.464  1.0  1.3  0.750   \n",
      "6     3.7  0.091  0.0  0.0    NaN   0.3   3.7  0.091  0.091  0.0  0.0    NaN   \n",
      "7     8.2  0.428  NaN  NaN    NaN   NaN   NaN    NaN    NaN  2.0  2.8  0.728   \n",
      "9     8.2  0.437  NaN  NaN    NaN   NaN   NaN    NaN    NaN  2.4  3.0  0.778   \n",
      "10    9.7  0.436  NaN  NaN    NaN   NaN   NaN    NaN    NaN  2.1  3.0  0.717   \n",
      "11    8.2  0.406  NaN  NaN    NaN   NaN   NaN    NaN    NaN  1.7  2.7  0.643   \n",
      "12    3.4  0.338  NaN  NaN    NaN   NaN   NaN    NaN    NaN  1.5  2.0  0.767   \n",
      "13    2.2  0.419  NaN  NaN    NaN   NaN   NaN    NaN    NaN  0.1  0.4  0.286   \n",
      "14    6.5  0.231  NaN  NaN    NaN   NaN   NaN    NaN    NaN  1.0  1.5  0.667   \n",
      "15   18.1  0.559  0.0  0.0  0.056  10.2  18.1  0.560  0.559  4.3  6.0  0.721   \n",
      "17   16.0  0.567  0.0  0.0  0.056   9.1  16.0  0.568  0.567  3.9  5.3  0.737   \n",
      "18   23.1  0.547  NaN  NaN    NaN  12.6  23.1  0.547  0.547  5.2  7.4  0.695   \n",
      "19   13.6  0.442  0.8  2.3  0.354   5.2  11.3  0.460  0.472  1.8  2.0  0.905   \n",
      "21   14.8  0.443  0.8  2.4  0.354   5.7  12.4  0.460  0.472  2.0  2.2  0.916   \n",
      "22   11.3  0.429  0.9  2.6  0.357   3.9   8.7  0.451  0.471  1.2  1.4  0.862   \n",
      "23    6.0  0.488  0.1  0.3  0.286   2.8   5.7  0.500  0.496  0.5  0.7  0.759   \n",
      "24    7.3  0.417  0.1  0.3  0.237   3.0   7.0  0.425  0.422  1.6  2.2  0.703   \n",
      "26    7.1  0.420  0.1  0.4  0.250   2.9   6.7  0.430  0.427  1.6  2.4  0.682   \n",
      "27    6.0  0.385  0.1  0.2  0.429   2.2   5.8  0.383  0.393  1.2  1.7  0.691   \n",
      "28   11.2  0.433  0.0  0.5  0.095   4.8  10.7  0.447  0.435  2.5  3.3  0.762   \n",
      "29    3.3  0.450  0.0  0.1  0.000   1.5   3.3  0.458  0.450  0.2  0.4  0.429   \n",
      "30   13.9  0.472  0.2  0.6  0.297   6.4  13.2  0.480  0.479  4.8  6.0  0.810   \n",
      "32   16.0  0.464  0.2  0.7  0.292   7.2  15.3  0.472  0.470  5.7  7.1  0.801   \n",
      "33   15.5  0.473  0.2  0.7  0.307   7.1  14.8  0.481  0.480  5.5  6.6  0.835   \n",
      "34    8.2  0.496  0.1  0.3  0.190   4.0   8.0  0.506  0.499  2.5  3.3  0.760   \n",
      "35   10.9  0.487  0.2  0.6  0.380   5.1  10.3  0.493  0.497  3.5  4.1  0.857   \n",
      "..    ...    ...  ...  ...    ...   ...   ...    ...    ...  ...  ...    ...   \n",
      "83    3.2  0.345  0.7  2.2  0.338   0.4   1.1  0.361  0.459  0.2  0.3  0.778   \n",
      "84    2.9  0.402  0.3  0.8  0.385   0.8   2.1  0.409  0.457  0.5  0.9  0.607   \n",
      "85   12.0  0.415  1.5  4.4  0.332   3.5   7.6  0.462  0.475  3.3  3.9  0.849   \n",
      "87   14.5  0.417  2.1  6.1  0.342   4.0   8.5  0.470  0.488  4.0  4.7  0.850   \n",
      "88   11.2  0.410  1.0  3.2  0.310   3.6   8.1  0.450  0.454  3.1  3.7  0.853   \n",
      "89    4.6  0.450  0.9  2.4  0.352   1.2   2.2  0.560  0.543  1.0  1.3  0.785   \n",
      "90    2.4  0.364  0.0  0.2  0.000   0.9   2.3  0.390  0.364  0.4  0.7  0.667   \n",
      "91    6.8  0.588  0.0  0.0  0.000   4.0   6.8  0.589  0.588  1.6  2.9  0.553   \n",
      "92    5.4  0.449  0.2  0.6  0.282   2.2   4.8  0.472  0.466  0.7  0.9  0.772   \n",
      "94    5.9  0.438  0.1  0.6  0.253   2.4   5.3  0.458  0.450  0.8  1.0  0.774   \n",
      "95    3.1  0.439  0.1  0.3  0.276   1.3   2.7  0.457  0.453  0.4  0.5  0.780   \n",
      "96    7.4  0.476  0.3  1.1  0.289   3.2   6.4  0.507  0.497  0.9  1.3  0.747   \n",
      "97    5.3  0.441  0.3  0.8  0.320   2.1   4.5  0.463  0.465  0.8  1.0  0.797   \n",
      "98    5.5  0.550  0.0  0.1  0.136   3.0   5.3  0.561  0.551  2.0  2.7  0.728   \n",
      "99    1.9  0.306  0.3  1.2  0.261   0.3   0.7  0.385  0.389  0.2  0.2  1.000   \n",
      "100   7.2  0.415  NaN  NaN    NaN   NaN   NaN    NaN    NaN  1.8  2.5  0.713   \n",
      "102   9.2  0.424  NaN  NaN    NaN   NaN   NaN    NaN    NaN  2.1  2.8  0.731   \n",
      "103   6.2  0.392  NaN  NaN    NaN   NaN   NaN    NaN    NaN  1.8  2.6  0.675   \n",
      "104   4.1  0.391  NaN  NaN    NaN   NaN   NaN    NaN    NaN  1.2  1.7  0.713   \n",
      "105   5.7  0.421  NaN  NaN    NaN   NaN   NaN    NaN    NaN  1.5  2.1  0.695   \n",
      "106   1.6  0.464  NaN  NaN    NaN   NaN   NaN    NaN    NaN  0.2  0.3  0.800   \n",
      "107   3.6  0.474  0.0  0.0  0.000   1.7   3.6  0.476  0.474  1.2  1.9  0.628   \n",
      "109   2.7  0.452  0.0  0.0  0.000   1.2   2.7  0.456  0.452  1.0  1.6  0.624   \n",
      "110   8.4  0.515  0.0  0.0    NaN   4.3   8.4  0.515  0.515  2.3  3.4  0.670   \n",
      "111   2.3  0.426  0.0  0.0    NaN   1.0   2.3  0.426  0.426  0.5  0.8  0.579   \n",
      "112   2.6  0.432  0.0  0.0    NaN   1.1   2.6  0.432  0.432  1.3  2.2  0.579   \n",
      "113   2.0  0.438  0.0  0.0    NaN   0.9   2.0  0.438  0.438  0.9  1.5  0.583   \n",
      "114   8.7  0.450  1.1  2.9  0.386   2.8   5.8  0.481  0.514  1.8  2.2  0.825   \n",
      "116   9.7  0.465  1.4  3.6  0.399   3.0   6.0  0.505  0.540  2.0  2.5  0.810   \n",
      "117  10.9  0.446  1.2  3.2  0.372   3.7   7.7  0.476  0.500  2.6  3.1  0.832   \n",
      "\n",
      "     ORB   DRB   TRB  AST  STL  BLK  TOV   PF   PTS  \n",
      "0    1.1   2.2   3.3  0.3  0.3  0.3  1.0  1.9   5.7  \n",
      "2    0.9   2.1   3.1  0.4  0.3  0.2  0.8  1.5   5.0  \n",
      "3    1.7   2.9   4.6  0.3  0.3  0.3  1.3  2.4   7.6  \n",
      "4    0.7   1.4   2.1  0.3  0.3  0.2  0.8  2.0   5.0  \n",
      "5    1.0   2.1   3.1  0.8  0.5  0.3  1.1  2.0   5.3  \n",
      "6    1.0   1.7   2.7  0.0  0.0  0.0  1.7  0.7   0.7  \n",
      "7    2.4   5.4   8.0  1.2  0.6  1.0  0.9  2.2   9.0  \n",
      "9    2.7   6.5   8.5  1.5  0.8  1.1  0.8  2.4   9.5  \n",
      "10   1.1   1.7   8.2  1.2  0.3  0.6  NaN  2.2  10.6  \n",
      "11   NaN   NaN   9.0  0.9  NaN  NaN  NaN  2.4   8.4  \n",
      "12   1.9   2.2   4.1  0.3  0.1  0.4  NaN  1.0   3.8  \n",
      "13   NaN   NaN   1.6  0.2  NaN  NaN  NaN  0.9   1.9  \n",
      "14   3.0   4.5   7.5  1.5  0.5  0.5  1.5  2.0   4.0  \n",
      "15   2.4   7.6  11.2  3.6  0.9  2.6  2.7  3.0  24.6  \n",
      "17   2.3   7.1   9.4  3.3  0.9  2.5  2.7  2.9  22.1  \n",
      "18   3.3  11.0  15.3  4.3  1.2  3.4  NaN  3.1  30.4  \n",
      "19   0.4   1.5   1.9  3.5  0.8  0.1  1.6  1.9  14.6  \n",
      "21   0.4   1.6   2.1  4.0  0.9  0.1  1.8  1.9  16.0  \n",
      "22   0.2   1.3   1.5  2.3  0.7  0.1  1.3  1.9  11.9  \n",
      "23   0.1   0.5   0.6  1.9  0.2  0.0  0.6  1.2   6.5  \n",
      "24   1.2   2.1   3.3  1.1  0.8  0.4  1.3  2.1   7.8  \n",
      "26   1.1   1.7   2.8  0.9  0.8  0.3  1.3  1.9   7.7  \n",
      "27   1.2   1.8   3.0  1.1  0.6  0.5  1.2  2.1   5.9  \n",
      "28   1.7   3.5   5.2  1.6  1.2  0.3  1.9  2.5  12.2  \n",
      "29   0.9   1.7   2.6  1.3  0.4  0.2  0.6  1.7   3.2  \n",
      "30   2.3   5.3   7.5  2.5  1.0  0.8  2.6  2.8  18.1  \n",
      "32   2.5   5.7   8.2  2.9  1.1  1.0  3.1  2.7  20.8  \n",
      "33   2.4   6.4   8.9  2.9  1.1  0.7  2.8  2.8  20.4  \n",
      "34   1.5   3.4   4.8  1.7  0.6  0.5  1.4  3.0  10.7  \n",
      "35   2.0   4.2   6.2  1.8  0.8  0.5  2.0  2.6  14.3  \n",
      "..   ...   ...   ...  ...  ...  ...  ...  ...   ...  \n",
      "83   0.3   1.4   1.8  1.9  0.4  0.1  0.8  1.3   3.2  \n",
      "84   0.3   0.7   0.9  0.6  0.6  0.2  0.5  0.8   3.2  \n",
      "85   0.6   2.3   2.9  6.4  1.7  0.1  2.1  1.8  14.7  \n",
      "87   0.7   2.5   3.2  7.2  2.0  0.1  2.3  1.9  18.2  \n",
      "88   0.7   2.4   3.0  6.6  1.5  0.1  2.3  1.9  13.3  \n",
      "89   0.2   0.8   1.0  3.2  0.9  0.1  1.0  1.3   6.0  \n",
      "90   0.1   0.2   0.3  1.2  0.5  0.1  0.6  0.5   2.2  \n",
      "91   3.5   3.9   7.4  1.0  0.9  1.0  1.4  2.7   9.7  \n",
      "92   0.7   1.4   2.1  0.9  0.4  0.2  0.7  1.8   5.8  \n",
      "94   0.8   1.3   2.1  0.8  0.4  0.3  0.8  1.6   6.1  \n",
      "95   0.5   1.0   1.4  0.7  0.2  0.1  0.5  1.3   3.2  \n",
      "96   0.8   2.2   3.1  1.4  0.7  0.3  1.0  3.0   8.3  \n",
      "97   0.7   1.0   1.7  0.7  0.4  0.1  0.9  1.2   5.8  \n",
      "98   1.9   4.6   6.5  1.9  0.7  0.7  1.2  2.3   8.0  \n",
      "99   0.2   0.8   1.0  0.3  0.1  0.2  0.3  0.7   1.7  \n",
      "100  0.4   1.1   2.4  3.5  0.9  0.1  NaN  2.1   7.7  \n",
      "102  NaN   NaN   2.8  4.6  NaN  NaN  NaN  2.4   9.8  \n",
      "103  NaN   NaN   2.7  3.1  NaN  NaN  NaN  2.2   6.7  \n",
      "104  0.3   1.1   1.4  1.4  0.8  0.0  NaN  1.4   4.4  \n",
      "105  0.5   1.5   2.0  2.5  1.7  0.2  NaN  2.1   6.3  \n",
      "106  0.3   0.4   0.8  0.4  0.4  0.1  NaN  0.7   1.7  \n",
      "107  1.4   2.9   4.3  0.7  0.3  0.5  0.6  1.7   4.6  \n",
      "109  1.3   2.4   3.7  0.6  0.3  0.5  0.5  1.5   3.5  \n",
      "110  2.5   5.3   7.8  1.1  0.6  0.8  1.1  2.6  10.9  \n",
      "111  1.0   1.5   2.5  0.4  0.2  0.2  0.4  1.2   2.5  \n",
      "112  1.4   3.2   4.5  0.9  0.2  0.5  0.5  1.8   3.5  \n",
      "113  0.6   2.1   2.8  0.1  0.0  0.3  0.3  1.6   2.6  \n",
      "114  0.4   2.4   2.9  1.8  0.4  0.2  1.1  1.9  10.8  \n",
      "116  0.6   2.7   3.3  2.1  0.6  0.3  1.2  2.3  12.4  \n",
      "117  0.3   2.6   3.0  2.5  0.4  0.1  1.6  1.7  13.5  \n",
      "\n",
      "[100 rows x 29 columns]\n"
     ]
    }
   ],
   "source": [
    "print(career.head(100))"
   ]
  },
  {
   "cell_type": "code",
   "execution_count": 7,
   "metadata": {},
   "outputs": [
    {
     "name": "stdout",
     "output_type": "stream",
     "text": [
      "(4685, 29)\n"
     ]
    }
   ],
   "source": [
    "career = career[career['Season'] == 'Career']\n",
    "print(career.shape)"
   ]
  },
  {
   "cell_type": "code",
   "execution_count": 8,
   "metadata": {},
   "outputs": [
    {
     "name": "stdout",
     "output_type": "stream",
     "text": [
      "                    Name  Season   Tm   Lg       G     GS    MP    FG   FGA  \\\n",
      "0         Alaa Abdelnaby  Career  NaN  NBA   256.0   53.0  12.5   2.4   4.8   \n",
      "7        Zaid Abdul-Aziz  Career  NaN  NBA   505.0    NaN  21.8   3.5   8.2   \n",
      "15   Kareem Abdul-Jabbar  Career  NaN  NBA  1560.0  625.0  36.8  10.2  18.1   \n",
      "19    Mahmoud Abdul-Rauf  Career  NaN  NBA   586.0  336.0  26.7   6.0  13.6   \n",
      "24     Tariq Abdul-Wahad  Career  NaN  NBA   236.0  145.0  20.4   3.1   7.3   \n",
      "30   Shareef Abdur-Rahim  Career  NaN  NBA   830.0  704.0  34.8   6.5  13.9   \n",
      "36         Tom Abernethy  Career  NaN  NBA   319.0    NaN  17.0   2.3   4.6   \n",
      "41           Forest Able  Career  NaN  NBA     1.0    NaN   1.0   0.0   2.0   \n",
      "42        John Abramovic  Career  NaN  BAA    56.0    NaN   NaN   3.6  15.3   \n",
      "47           lex Abrines  Career  NaN  NBA   174.0   16.0  16.0   1.8   4.5   \n",
      "48            Alex Acker  Career  NaN  NBA    30.0    0.0   7.8   1.1   3.1   \n",
      "52          Don Ackerman  Career  NaN  NBA    28.0    NaN   7.9   0.5   2.3   \n",
      "53            Mark Acres  Career  NaN  NBA   375.0   68.0  16.0   1.4   2.7   \n",
      "59             Bud Acton  Career  NaN  NBA    23.0    NaN   8.5   1.3   3.2   \n",
      "60            Quincy Acy  Career  NaN  NBA   337.0   60.0  16.0   1.7   3.9   \n",
      "68           Alvan Adams  Career  NaN  NBA   988.0  342.0  27.5   5.8  11.6   \n",
      "69             Don Adams  Career  NaN  TOT   523.0    NaN  25.8   3.5   8.7   \n",
      "78          George Adams  Career  NaN  ABA   215.0    NaN  18.2   3.3   6.7   \n",
      "79          Hassan Adams  Career  NaN  NBA    73.0    8.0   7.5   1.1   2.0   \n",
      "83          Jaylen Adams  Career  NaN  NBA    34.0    1.0  12.6   1.1   3.2   \n",
      "84          Jordan Adams  Career  NaN  NBA    32.0    0.0   8.2   1.2   2.9   \n",
      "85         Michael Adams  Career  NaN  NBA   653.0  510.0  31.3   5.0  12.0   \n",
      "91          Steven Adams  Career  NaN  NBA   467.0  403.0  26.8   4.0   6.8   \n",
      "92        Rafael Addison  Career  NaN  NBA   379.0   54.0  15.0   2.4   5.4   \n",
      "98           Bam Adebayo  Career  NaN  NBA   151.0   47.0  21.7   3.0   5.5   \n",
      "99             Deng Adel  Career  NaN  NBA    19.0    3.0  10.2   0.6   1.9   \n",
      "100         Rick Adelman  Career  NaN  NBA   462.0    NaN  22.6   3.0   7.2   \n",
      "107          Jeff Adrien  Career  NaN  NBA   153.0   17.0  14.0   1.7   3.6   \n",
      "114        Arron Afflalo  Career  NaN  NBA   762.0  537.0  27.3   3.9   8.7   \n",
      "122         Maurice Ager  Career  NaN  NBA    82.0    4.0   6.2   0.8   2.3   \n",
      "..                   ...     ...  ...  ...     ...    ...   ...   ...   ...   \n",
      "264       Derrick Alston  Career  NaN  NBA   139.0   42.0  19.1   2.3   4.7   \n",
      "268         Rafer Alston  Career  NaN  NBA   671.0  452.0  28.9   3.7   9.5   \n",
      "276          Peter Aluma  Career  NaN  NBA     2.0    0.0   2.5   0.5   1.0   \n",
      "277         John Amaechi  Career  NaN  NBA   294.0   93.0  16.4   2.3   5.6   \n",
      "282         Ashraf Amaya  Career  NaN  NBA    85.0   34.0  14.7   1.6   3.4   \n",
      "286      Al-Farouq Aminu  Career  NaN  NBA   670.0  429.0  25.2   2.8   6.7   \n",
      "292         Lou Amundson  Career  NaN  NBA   428.0   42.0  12.9   1.5   3.2   \n",
      "304         Bob Anderegg  Career  NaN  NBA    33.0    NaN  11.3   1.7   4.3   \n",
      "305       Chris Andersen  Career  NaN  NBA   695.0   45.0  17.7   1.9   3.6   \n",
      "312       David Andersen  Career  NaN  NBA   103.0    0.0  12.3   2.0   4.5   \n",
      "317        Alan Anderson  Career  NaN  NBA   330.0   66.0  20.6   2.6   6.3   \n",
      "324      Andrew Anderson  Career  NaN  ABA   194.0    NaN  24.7   4.1  10.1   \n",
      "329     Antonio Anderson  Career  NaN  NBA     1.0    0.0  15.0   1.0   3.0   \n",
      "330       Cliff Anderson  Career  NaN  TOT    84.0    NaN   7.2   0.9   2.5   \n",
      "338         Dan Anderson  Career  NaN  ABA   140.0    NaN  28.8   4.9  10.2   \n",
      "343         Dan Anderson  Career  NaN  NBA    95.0    NaN  11.2   1.4   3.0   \n",
      "344       Derek Anderson  Career  NaN  NBA   615.0  390.0  29.2   3.9   9.6   \n",
      "353      Dwight Anderson  Career  NaN  NBA     5.0    0.0   6.6   1.4   2.8   \n",
      "354        Eric Anderson  Career  NaN  NBA    27.0    0.0   3.1   0.4   1.3   \n",
      "355        Greg Anderson  Career  NaN  NBA   680.0  315.0  20.6   3.0   6.0   \n",
      "363        J.J. Anderson  Career  NaN  NBA   157.0    2.0  12.5   1.9   4.2   \n",
      "367       James Anderson  Career  NaN  NBA   247.0   83.0  17.5   2.1   5.2   \n",
      "373      Jerome Anderson  Career  NaN  NBA    49.0    NaN   5.9   1.0   2.1   \n",
      "377      Justin Anderson  Career  NaN  NBA   216.0   23.0  13.2   1.9   4.5   \n",
      "382       Kenny Anderson  Career  NaN  NBA   858.0  693.0  30.1   4.7  11.1   \n",
      "393         Kim Anderson  Career  NaN  NBA    21.0    NaN  10.7   1.1   3.7   \n",
      "394        Kyle Anderson  Career  NaN  NBA   300.0  140.0  19.6   2.1   4.4   \n",
      "398     Michael Anderson  Career  NaN  NBA    36.0   12.0  20.3   2.0   4.9   \n",
      "399        Nick Anderson  Career  NaN  NBA   800.0  636.0  31.2   5.5  12.4   \n",
      "404     Richard Anderson  Career  NaN  NBA   407.0   30.0  14.7   2.2   5.4   \n",
      "\n",
      "       FG%   3P  3PA    3P%    2P   2PA    2P%   eFG%   FT  FTA    FT%  ORB  \\\n",
      "0    0.502  0.0  0.0  0.000   2.4   4.8  0.503  0.502  0.9  1.3  0.701  1.1   \n",
      "7    0.428  NaN  NaN    NaN   NaN   NaN    NaN    NaN  2.0  2.8  0.728  2.4   \n",
      "15   0.559  0.0  0.0  0.056  10.2  18.1  0.560  0.559  4.3  6.0  0.721  2.4   \n",
      "19   0.442  0.8  2.3  0.354   5.2  11.3  0.460  0.472  1.8  2.0  0.905  0.4   \n",
      "24   0.417  0.1  0.3  0.237   3.0   7.0  0.425  0.422  1.6  2.2  0.703  1.2   \n",
      "30   0.472  0.2  0.6  0.297   6.4  13.2  0.480  0.479  4.8  6.0  0.810  2.3   \n",
      "36   0.492  0.0  0.0  0.000   2.3   4.6  0.493  0.492  1.0  1.4  0.747  1.2   \n",
      "41   0.000  NaN  NaN    NaN   NaN   NaN    NaN    NaN  0.0  0.0    NaN  NaN   \n",
      "42   0.237  NaN  NaN    NaN   NaN   NaN    NaN    NaN  2.3  3.3  0.686  NaN   \n",
      "47   0.387  1.3  3.4  0.368   0.5   1.1  0.443  0.525  0.5  0.6  0.880  0.3   \n",
      "48   0.370  0.3  0.8  0.320   0.9   2.2  0.388  0.413  0.2  0.3  0.500  0.3   \n",
      "52   0.222  NaN  NaN    NaN   NaN   NaN    NaN    NaN  0.5  1.0  0.536  NaN   \n",
      "53   0.506  0.0  0.0  0.538   1.4   2.7  0.505  0.509  0.8  1.2  0.665  1.5   \n",
      "59   0.392  NaN  NaN    NaN   NaN   NaN    NaN    NaN  0.8  1.3  0.655  NaN   \n",
      "60   0.444  0.5  1.6  0.350   1.2   2.3  0.506  0.513  0.9  1.1  0.759  0.9   \n",
      "68   0.498  0.0  0.0  0.133   5.8  11.6  0.498  0.498  2.5  3.2  0.788  2.0   \n",
      "69   0.402  0.0  0.1  0.000   3.5   8.7  0.402  0.402  1.8  2.5  0.741  1.5   \n",
      "78   0.497  0.0  0.1  0.235   3.3   6.6  0.500  0.499  1.0  1.3  0.794  1.5   \n",
      "79   0.534  0.0  0.0  0.000   1.1   2.0  0.537  0.534  0.4  0.6  0.643  0.5   \n",
      "83   0.345  0.7  2.2  0.338   0.4   1.1  0.361  0.459  0.2  0.3  0.778  0.3   \n",
      "84   0.402  0.3  0.8  0.385   0.8   2.1  0.409  0.457  0.5  0.9  0.607  0.3   \n",
      "85   0.415  1.5  4.4  0.332   3.5   7.6  0.462  0.475  3.3  3.9  0.849  0.6   \n",
      "91   0.588  0.0  0.0  0.000   4.0   6.8  0.589  0.588  1.6  2.9  0.553  3.5   \n",
      "92   0.449  0.2  0.6  0.282   2.2   4.8  0.472  0.466  0.7  0.9  0.772  0.7   \n",
      "98   0.550  0.0  0.1  0.136   3.0   5.3  0.561  0.551  2.0  2.7  0.728  1.9   \n",
      "99   0.306  0.3  1.2  0.261   0.3   0.7  0.385  0.389  0.2  0.2  1.000  0.2   \n",
      "100  0.415  NaN  NaN    NaN   NaN   NaN    NaN    NaN  1.8  2.5  0.713  0.4   \n",
      "107  0.474  0.0  0.0  0.000   1.7   3.6  0.476  0.474  1.2  1.9  0.628  1.4   \n",
      "114  0.450  1.1  2.9  0.386   2.8   5.8  0.481  0.514  1.8  2.2  0.825  0.4   \n",
      "122  0.339  0.1  0.5  0.250   0.6   1.8  0.366  0.368  0.4  0.6  0.566  0.1   \n",
      "..     ...  ...  ...    ...   ...   ...    ...    ...  ...  ...    ...  ...   \n",
      "264  0.489  0.0  0.1  0.143   2.3   4.6  0.493  0.490  0.8  1.7  0.487  1.6   \n",
      "268  0.383  1.5  4.2  0.354   2.2   5.3  0.407  0.461  1.3  1.8  0.729  0.4   \n",
      "276  0.500  0.0  0.0    NaN   0.5   1.0  0.500  0.500  0.0  0.0    NaN  0.5   \n",
      "277  0.403  0.0  0.0  0.077   2.3   5.6  0.405  0.403  1.7  2.6  0.671  0.8   \n",
      "282  0.455  0.0  0.0  0.500   1.6   3.4  0.455  0.457  1.3  2.1  0.633  1.6   \n",
      "286  0.423  0.8  2.3  0.337   2.0   4.3  0.469  0.482  1.3  1.7  0.747  1.4   \n",
      "292  0.474  0.0  0.0  0.000   1.5   3.2  0.475  0.474  0.6  1.4  0.444  1.5   \n",
      "304  0.385  NaN  NaN    NaN   NaN   NaN    NaN    NaN  0.7  1.3  0.548  NaN   \n",
      "305  0.532  0.0  0.1  0.221   1.9   3.5  0.541  0.535  1.5  2.3  0.654  1.7   \n",
      "312  0.440  0.3  1.0  0.347   1.6   3.5  0.467  0.478  0.6  0.9  0.674  0.7   \n",
      "317  0.405  1.0  2.9  0.344   1.6   3.4  0.457  0.484  1.2  1.5  0.816  0.5   \n",
      "324  0.410  0.1  0.3  0.159   4.1   9.8  0.418  0.413  2.4  3.2  0.755  1.6   \n",
      "329  0.333  0.0  0.0    NaN   1.0   3.0  0.333  0.333  0.0  0.0    NaN  1.0   \n",
      "330  0.354  0.0  0.0    NaN   0.9   2.5  0.354  0.354  1.3  2.2  0.585  0.3   \n",
      "338  0.481  0.0  0.0    NaN   4.9  10.2  0.481  0.481  2.4  3.4  0.727  3.5   \n",
      "343  0.472  NaN  NaN    NaN   NaN   NaN    NaN    NaN  0.8  1.0  0.846  0.2   \n",
      "344  0.408  1.0  3.1  0.341   2.9   6.6  0.440  0.463  3.0  3.6  0.853  0.7   \n",
      "353  0.500  0.0  0.0    NaN   1.4   2.8  0.500  0.500  1.4  2.0  0.700  0.0   \n",
      "354  0.343  0.1  0.1  1.000   0.4   1.2  0.303  0.371  0.6  1.0  0.593  0.4   \n",
      "355  0.492  0.0  0.0  0.087   3.0   6.0  0.494  0.492  1.4  2.5  0.557  2.1   \n",
      "363  0.465  0.0  0.1  0.000   1.9   4.1  0.471  0.465  0.9  1.6  0.558  1.2   \n",
      "367  0.411  0.8  2.5  0.321   1.3   2.7  0.495  0.488  0.7  0.9  0.755  0.4   \n",
      "373  0.490  NaN  NaN    NaN   NaN   NaN    NaN    NaN  0.5  0.7  0.694  0.3   \n",
      "377  0.419  0.6  2.1  0.302   1.3   2.4  0.523  0.490  0.9  1.2  0.778  0.6   \n",
      "382  0.421  0.6  1.8  0.346   4.0   9.2  0.436  0.449  2.6  3.3  0.790  0.8   \n",
      "393  0.312  NaN  NaN    NaN   NaN   NaN    NaN    NaN  0.7  1.3  0.536  0.8   \n",
      "394  0.492  0.2  0.6  0.324   2.0   3.8  0.519  0.514  0.9  1.2  0.706  0.7   \n",
      "398  0.417  0.0  0.2  0.143   2.0   4.7  0.429  0.420  1.6  2.3  0.695  1.2   \n",
      "399  0.446  1.3  3.7  0.356   4.2   8.7  0.485  0.500  2.1  3.1  0.667  1.3   \n",
      "404  0.412  0.4  1.1  0.333   1.9   4.3  0.432  0.446  0.7  0.9  0.762  1.1   \n",
      "\n",
      "     DRB   TRB  AST  STL  BLK  TOV   PF   PTS  \n",
      "0    2.2   3.3  0.3  0.3  0.3  1.0  1.9   5.7  \n",
      "7    5.4   8.0  1.2  0.6  1.0  0.9  2.2   9.0  \n",
      "15   7.6  11.2  3.6  0.9  2.6  2.7  3.0  24.6  \n",
      "19   1.5   1.9  3.5  0.8  0.1  1.6  1.9  14.6  \n",
      "24   2.1   3.3  1.1  0.8  0.4  1.3  2.1   7.8  \n",
      "30   5.3   7.5  2.5  1.0  0.8  2.6  2.8  18.1  \n",
      "36   2.0   3.2  1.2  0.6  0.2  0.5  1.6   5.6  \n",
      "41   NaN   1.0  1.0  NaN  NaN  NaN  1.0   0.0  \n",
      "42   NaN   NaN  0.7  NaN  NaN  NaN  3.1   9.5  \n",
      "47   1.1   1.4  0.5  0.5  0.1  0.4  1.7   5.3  \n",
      "48   0.7   1.0  0.5  0.2  0.1  0.4  0.4   2.7  \n",
      "52   NaN   0.5  0.8  NaN  NaN  NaN  1.5   1.5  \n",
      "53   2.5   4.1  0.5  0.4  0.3  0.6  2.5   3.6  \n",
      "59   NaN   2.0  0.5  NaN  NaN  NaN  1.5   3.3  \n",
      "60   2.6   3.5  0.6  0.4  0.4  0.6  2.0   4.9  \n",
      "68   5.0   7.0  4.1  1.3  0.8  2.6  3.3  14.1  \n",
      "69   3.3   5.6  1.9  1.1  0.2  2.2  3.3   8.8  \n",
      "78   2.6   4.1  1.5  0.6  0.4  1.4  1.7   7.7  \n",
      "79   0.7   1.2  0.2  0.2  0.1  0.4  0.7   2.5  \n",
      "83   1.4   1.8  1.9  0.4  0.1  0.8  1.3   3.2  \n",
      "84   0.7   0.9  0.6  0.6  0.2  0.5  0.8   3.2  \n",
      "85   2.3   2.9  6.4  1.7  0.1  2.1  1.8  14.7  \n",
      "91   3.9   7.4  1.0  0.9  1.0  1.4  2.7   9.7  \n",
      "92   1.4   2.1  0.9  0.4  0.2  0.7  1.8   5.8  \n",
      "98   4.6   6.5  1.9  0.7  0.7  1.2  2.3   8.0  \n",
      "99   0.8   1.0  0.3  0.1  0.2  0.3  0.7   1.7  \n",
      "100  1.1   2.4  3.5  0.9  0.1  NaN  2.1   7.7  \n",
      "107  2.9   4.3  0.7  0.3  0.5  0.6  1.7   4.6  \n",
      "114  2.4   2.9  1.8  0.4  0.2  1.1  1.9  10.8  \n",
      "122  0.5   0.6  0.2  0.1  0.1  0.4  0.8   2.1  \n",
      "..   ...   ...  ...  ...  ...  ...  ...   ...  \n",
      "264  2.1   3.8  0.7  0.7  0.6  0.8  2.1   5.4  \n",
      "268  2.5   2.8  4.8  1.2  0.2  1.8  2.1  10.1  \n",
      "276  0.5   1.0  0.0  0.5  0.5  1.0  2.0   1.0  \n",
      "277  1.8   2.6  0.8  0.3  0.3  1.3  1.7   6.2  \n",
      "282  2.6   4.2  0.4  0.3  0.2  0.8  2.1   4.5  \n",
      "286  4.7   6.1  1.2  1.0  0.6  1.2  1.9   7.7  \n",
      "292  2.1   3.6  0.4  0.4  0.7  0.7  2.0   3.7  \n",
      "304  NaN   2.1  0.9  NaN  NaN  NaN  1.0   4.0  \n",
      "305  3.3   5.0  0.5  0.4  1.4  0.7  1.9   5.4  \n",
      "312  2.1   2.8  0.6  0.2  0.2  0.6  1.5   4.9  \n",
      "317  1.7   2.2  1.1  0.6  0.1  0.9  1.8   7.3  \n",
      "324  1.4   2.7  1.7  NaN  NaN  1.6  2.4  10.7  \n",
      "329  0.0   1.0  0.0  0.0  0.0  1.0  1.0   2.0  \n",
      "330  1.0   1.3  0.9  NaN  NaN  1.0  1.3   3.0  \n",
      "338  5.9   9.4  1.1  NaN  NaN  1.5  3.6  12.2  \n",
      "343  0.7   1.0  1.7  0.4  0.0  NaN  1.1   3.7  \n",
      "344  2.5   3.2  3.4  1.1  0.1  1.7  2.0  12.0  \n",
      "353  0.4   0.4  0.6  0.2  0.0  1.0  1.4   4.2  \n",
      "354  0.7   1.1  0.2  0.1  0.1  0.3  0.9   1.6  \n",
      "355  4.1   6.2  0.6  0.7  0.9  1.4  2.6   7.3  \n",
      "363  1.6   2.8  0.7  0.7  0.2  0.8  1.6   4.8  \n",
      "367  1.8   2.3  1.2  0.5  0.2  0.9  1.2   5.8  \n",
      "373  0.2   0.5  0.3  0.2  0.1  NaN  1.0   2.6  \n",
      "377  1.9   2.6  0.7  0.4  0.3  0.6  1.2   5.3  \n",
      "382  2.3   3.1  6.1  1.5  0.1  2.1  2.3  12.6  \n",
      "393  1.3   2.1  0.7  0.2  0.2  1.0  2.0   3.0  \n",
      "394  3.3   3.9  1.9  1.0  0.5  0.9  1.4   5.3  \n",
      "398  1.3   2.5  4.3  1.2  0.1  2.3  1.8   5.7  \n",
      "399  3.8   5.1  2.6  1.4  0.5  1.7  1.9  14.4  \n",
      "404  2.4   3.5  1.5  0.6  0.2  0.9  1.7   5.6  \n",
      "\n",
      "[100 rows x 29 columns]\n"
     ]
    }
   ],
   "source": [
    "print(career.head(100))"
   ]
  },
  {
   "cell_type": "code",
   "execution_count": 9,
   "metadata": {},
   "outputs": [
    {
     "data": {
      "text/plain": [
       "Name         0\n",
       "Season       0\n",
       "Tm        4685\n",
       "Lg           0\n",
       "G            0\n",
       "GS        1711\n",
       "MP         344\n",
       "FG           0\n",
       "FGA          0\n",
       "FG%         28\n",
       "3P        1128\n",
       "3PA       1128\n",
       "3P%       1623\n",
       "2P        1128\n",
       "2PA       1128\n",
       "2P%       1159\n",
       "eFG%      1150\n",
       "FT           0\n",
       "FTA          0\n",
       "FT%        204\n",
       "ORB        959\n",
       "DRB        959\n",
       "TRB        292\n",
       "AST          0\n",
       "STL       1197\n",
       "BLK       1197\n",
       "TOV       1045\n",
       "PF           0\n",
       "PTS          0\n",
       "dtype: int64"
      ]
     },
     "execution_count": 9,
     "metadata": {},
     "output_type": "execute_result"
    }
   ],
   "source": [
    "career.isna().sum()"
   ]
  },
  {
   "cell_type": "code",
   "execution_count": 10,
   "metadata": {},
   "outputs": [
    {
     "name": "stdout",
     "output_type": "stream",
     "text": [
      "(3335, 29)\n"
     ]
    }
   ],
   "source": [
    "career.dropna(subset=['ORB', 'DRB', 'TRB', 'STL', 'BLK', 'TOV'], inplace=True)\n",
    "print(career.shape)"
   ]
  },
  {
   "cell_type": "code",
   "execution_count": 11,
   "metadata": {},
   "outputs": [
    {
     "data": {
      "text/plain": [
       "Name         0\n",
       "Season       0\n",
       "Tm        3335\n",
       "Lg           0\n",
       "G            0\n",
       "GS         361\n",
       "MP           0\n",
       "FG           0\n",
       "FGA          0\n",
       "FG%         17\n",
       "3P          84\n",
       "3PA         84\n",
       "3P%        498\n",
       "2P          84\n",
       "2PA         84\n",
       "2P%        110\n",
       "eFG%       101\n",
       "FT           0\n",
       "FTA          0\n",
       "FT%        141\n",
       "ORB          0\n",
       "DRB          0\n",
       "TRB          0\n",
       "AST          0\n",
       "STL          0\n",
       "BLK          0\n",
       "TOV          0\n",
       "PF           0\n",
       "PTS          0\n",
       "dtype: int64"
      ]
     },
     "execution_count": 11,
     "metadata": {},
     "output_type": "execute_result"
    }
   ],
   "source": [
    "career.isna().sum()"
   ]
  },
  {
   "cell_type": "code",
   "execution_count": 12,
   "metadata": {},
   "outputs": [
    {
     "name": "stdout",
     "output_type": "stream",
     "text": [
      "(2974, 29)\n"
     ]
    }
   ],
   "source": [
    "career.dropna(subset=['GS'], inplace=True)\n",
    "print(career.shape)"
   ]
  },
  {
   "cell_type": "code",
   "execution_count": 13,
   "metadata": {},
   "outputs": [
    {
     "data": {
      "text/plain": [
       "Name         0\n",
       "Season       0\n",
       "Tm        2974\n",
       "Lg           0\n",
       "G            0\n",
       "GS           0\n",
       "MP           0\n",
       "FG           0\n",
       "FGA          0\n",
       "FG%         16\n",
       "3P           0\n",
       "3PA          0\n",
       "3P%        345\n",
       "2P           0\n",
       "2PA          0\n",
       "2P%         25\n",
       "eFG%        16\n",
       "FT           0\n",
       "FTA          0\n",
       "FT%        131\n",
       "ORB          0\n",
       "DRB          0\n",
       "TRB          0\n",
       "AST          0\n",
       "STL          0\n",
       "BLK          0\n",
       "TOV          0\n",
       "PF           0\n",
       "PTS          0\n",
       "dtype: int64"
      ]
     },
     "execution_count": 13,
     "metadata": {},
     "output_type": "execute_result"
    }
   ],
   "source": [
    "career.isna().sum()"
   ]
  },
  {
   "cell_type": "code",
   "execution_count": 14,
   "metadata": {},
   "outputs": [],
   "source": [
    "career.fillna(0, inplace=True)"
   ]
  },
  {
   "cell_type": "code",
   "execution_count": 15,
   "metadata": {},
   "outputs": [],
   "source": [
    "career.shape\n",
    "career.drop(columns=['Tm'], inplace=True)"
   ]
  },
  {
   "cell_type": "code",
   "execution_count": 16,
   "metadata": {},
   "outputs": [
    {
     "data": {
      "text/plain": [
       "Name      0\n",
       "Season    0\n",
       "Lg        0\n",
       "G         0\n",
       "GS        0\n",
       "MP        0\n",
       "FG        0\n",
       "FGA       0\n",
       "FG%       0\n",
       "3P        0\n",
       "3PA       0\n",
       "3P%       0\n",
       "2P        0\n",
       "2PA       0\n",
       "2P%       0\n",
       "eFG%      0\n",
       "FT        0\n",
       "FTA       0\n",
       "FT%       0\n",
       "ORB       0\n",
       "DRB       0\n",
       "TRB       0\n",
       "AST       0\n",
       "STL       0\n",
       "BLK       0\n",
       "TOV       0\n",
       "PF        0\n",
       "PTS       0\n",
       "dtype: int64"
      ]
     },
     "execution_count": 16,
     "metadata": {},
     "output_type": "execute_result"
    }
   ],
   "source": [
    "career.isna().sum()"
   ]
  },
  {
   "cell_type": "code",
   "execution_count": 17,
   "metadata": {},
   "outputs": [],
   "source": [
    "career.to_csv('player_career_stats_cleaned.csv', index=False)"
   ]
  },
  {
   "cell_type": "code",
   "execution_count": null,
   "metadata": {},
   "outputs": [],
   "source": []
  }
 ],
 "metadata": {
  "kernelspec": {
   "display_name": "Python 3",
   "language": "python",
   "name": "python3"
  },
  "language_info": {
   "codemirror_mode": {
    "name": "ipython",
    "version": 3
   },
   "file_extension": ".py",
   "mimetype": "text/x-python",
   "name": "python",
   "nbconvert_exporter": "python",
   "pygments_lexer": "ipython3",
   "version": "3.7.3"
  }
 },
 "nbformat": 4,
 "nbformat_minor": 2
}

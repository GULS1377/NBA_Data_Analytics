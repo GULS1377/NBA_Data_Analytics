{
 "cells": [
  {
   "cell_type": "code",
   "execution_count": 1,
   "metadata": {
    "pycharm": {
     "is_executing": false
    }
   },
   "outputs": [],
   "source": [
    "import pandas as pd\n",
    "pd.set_option('display.max_columns', None)"
   ]
  },
  {
   "cell_type": "code",
   "execution_count": 2,
   "metadata": {
    "pycharm": {
     "is_executing": false
    }
   },
   "outputs": [
    {
     "name": "stdout",
     "text": [
      "(29620, 31)\n              Name   Season      Age   Tm  \\\n0   Alaa Abdelnaby  1990-91       22  POR   \n1   Alaa Abdelnaby  1991-92       23  POR   \n2   Alaa Abdelnaby  1992-93       24  TOT   \n3   Alaa Abdelnaby  1992-93       24  MIL   \n4   Alaa Abdelnaby  1992-93       24  BOS   \n..             ...      ...      ...  ...   \n95      Alex Acker  2008-09  2007-08   25   \n96      Alex Acker  2008-09       26  TOT   \n97      Alex Acker  2008-09       26  DET   \n98      Alex Acker  2008-09       26  LAC   \n99    Don Ackerman  1953-54       23  NYK   \n\n                                      Lg Pos    G   GS    MP   FG  FGA   FG%  \\\n0                                    NBA  PF   43    0   6.7  1.3  2.7  .474   \n1                                    NBA  PF   71    1  13.2  2.5  5.1  .493   \n2                                    NBA  PF   75   52  17.5  3.3  6.3  .518   \n3                                    NBA  PF   12    0  13.3  2.2  4.7  .464   \n4                                    NBA  PF   63   52  18.3  3.5  6.6  .525   \n..                                   ...  ..  ...  ...   ...  ...  ...   ...   \n95  Did Not Play(other pro league—Spain)  26  TOT  NBA    SG   25    0   8.0   \n96                                   NBA  SG   25    0   8.0  1.2  3.0  .395   \n97                                   NBA  SG    7    0   2.9  0.6  1.6  .364   \n98                                   NBA  SG   18    0   9.9  1.4  3.6  .400   \n99                                   NBA  PG   28  NaN   7.9  0.5  2.3  .222   \n\n     3P  3PA   3P%   2P  2PA   2P%  eFG%   FT   FTA   FT%  ORB  DRB   TRB  \\\n0   0.0  0.0   NaN  1.3  2.7  .474  .474  0.6   1.0  .568  0.6  1.4   2.1   \n1   0.0  0.0   NaN  2.5  5.1  .493  .493  1.1   1.4  .752  1.1  2.5   3.7   \n2   0.0  0.0  .000  3.3  6.3  .519  .518  1.2   1.5  .759  1.7  2.8   4.5   \n3   0.0  0.1  .000  2.2  4.6  .473  .464  1.0   1.3  .750  1.0  2.1   3.1   \n4   0.0  0.0   NaN  3.5  6.6  .525  .525  1.2   1.6  .760  1.8  3.0   4.8   \n..  ...  ...   ...  ...  ...   ...   ...  ...   ...   ...  ...  ...   ...   \n95  1.2  3.0  .395  0.3  0.8  .350   0.9  2.2  .411  .441  0.2  0.4  .500   \n96  0.3  0.8  .350  0.9  2.2  .411  .441  0.2   0.4  .500  0.3  0.6   1.0   \n97  0.0  0.6  .000  0.6  1.0  .571  .364  0.1   0.3  .500  0.0  0.3   0.3   \n98  0.4  0.9  .438  1.1  2.7  .388  .454  0.2   0.4  .500  0.4  0.8   1.2   \n99  NaN  NaN   NaN  NaN  NaN   NaN   NaN  0.5   1.0  .536  NaN  NaN   0.5   \n\n    AST  STL  BLK  TOV   PF  PTS  \n0   0.3  0.1  0.3  0.5  0.9  3.1  \n1   0.4  0.4  0.2  0.9  1.9  6.1  \n2   0.4  0.3  0.3  1.3  2.5  7.7  \n3   0.8  0.5  0.3  1.1  2.0  5.3  \n4   0.3  0.3  0.3  1.3  2.6  8.2  \n..  ...  ...  ...  ...  ...  ...  \n95  0.3  0.6  1.0  0.5  0.2  0.2  \n96  0.5  0.2  0.2  0.3  0.4  2.9  \n97  0.1  0.3  0.1  0.0  0.0  1.3  \n98  0.6  0.2  0.2  0.4  0.5  3.5  \n99  0.8  NaN  NaN  NaN  1.5  1.5  \n\n[100 rows x 31 columns]\n"
     ],
     "output_type": "stream"
    }
   ],
   "source": [
    "stats_names = ['Name', 'Season', 'Age', 'Tm', 'Lg', 'Pos', 'G', 'GS', 'MP', 'FG', 'FGA', 'FG%', '3P', '3PA', '3P%', '2P', '2PA',\n",
    "               '2P%', 'eFG%', 'FT', 'FTA', 'FT%', 'ORB', 'DRB', 'TRB', 'AST', 'STL', 'BLK', 'TOV', 'PF', 'PTS']\n",
    "player_stats = pd.read_csv('player_stats.csv', names=stats_names, encoding='gbk')\n",
    "print(player_stats.shape)\n",
    "print(player_stats.head(100))"
   ]
  },
  {
   "cell_type": "code",
   "execution_count": 22,
   "metadata": {
    "pycharm": {
     "is_executing": false
    }
   },
   "outputs": [
    {
     "name": "stdout",
     "text": [
      "Khyri Thomas                1\nShai Gilgeous-Alexander     1\nDarryl Johnson              1\nBen Gillery                 1\nJacob Evans                 1\n                           ..\nJoe Smith                  26\nKevin Willis               27\nNazr Mohammed              28\nEddie Johnson              29\nGerald Henderson           29\nName: Name, Length: 2948, dtype: int64\n1980-81     13\n1979-80     13\n1983-84    343\n1984-85    362\n1981-82    373\n1986-87    378\n1985-86    379\n1982-83    391\n1987-88    426\n1988-89    438\n1990-91    441\n1992-93    449\n1994-95    452\n1991-92    458\n1989-90    459\n1993-94    481\n2002-03    483\n1999-00    496\n2001-02    500\n1998-99    507\n2006-07    516\n2000-01    537\n1995-96    545\n1997-98    547\n2011-12    552\n2005-06    563\n1996-97    573\n2012-13    576\n2015-16    578\n2009-10    578\n2008-09    582\n2004-05    585\n2003-04    585\n2007-08    595\n2016-17    595\n2013-14    614\n2010-11    625\n2014-15    652\n2017-18    664\n2018-19    708\nName: Season, dtype: int64\n43       1\n44       1\n42       4\n41       5\n18      12\n40      19\n39      48\n38      96\n19     124\n37     148\n36     213\n35     325\n20     330\n34     487\n21     618\n33     628\n32     815\n31     983\n30    1182\n29    1252\n22    1397\n28    1419\n27    1633\n26    1827\n25    1901\n23    2041\n24    2103\nName: Age, dtype: int64\nNOK      34\nSDC      51\nKCK      61\nCHO      87\nVAN      98\nNOP     132\nBRK     134\nNOH     161\nCHA     183\nOKC     198\nCHH     243\nWSB     256\nMEM     340\nWAS     391\nSEA     411\nTOR     442\nMIN     492\nORL     505\nMIA     525\nNJN     544\nSAC     565\nUTA     581\nIND     585\nLAL     599\nPOR     602\nLAC     610\nDET     612\nCHI     624\nNYK     633\nDEN     635\nDAL     642\nPHO     644\nHOU     646\nATL     653\nBOS     653\nSAS     655\nGSW     659\nMIL     660\nPHI     671\nCLE     673\nTOT    1722\nName: Tm, dtype: int64\nNBA    19612\nName: Lg, dtype: int64\nPG-SF       1\nSG-PF       4\nSF-PF      20\nPF-C       23\nSG-PG      24\nPF-SF      24\nSG-SF      27\nC-PF       28\nPG-SG      29\nSF-SG      30\nSF       3651\nSG       3868\nC        3888\nPG       3903\nPF       4092\nName: Pos, dtype: int64\n85       3\n84       4\n83      17\n34     122\n37     136\n      ... \n78     436\n79     517\n80     698\n81     738\n82    1380\nName: G, Length: 85, dtype: int64\n83       3\n57      61\n44      70\n52      72\n48      75\n      ... \n82     550\n3      582\n2      844\n1     1189\n0     5572\nName: GS, Length: 84, dtype: int64\n41.2      1\n42.1      1\n44.5      1\n42.6      1\n41.7      1\n       ... \n6.0      86\n4.0      87\n12.3     92\n9.0      98\n5.0     104\nName: MP, Length: 422, dtype: int64\n11.9      1\n11.4      1\n13.0      1\n12.7      1\n13.4      1\n       ... \n1.8     462\n0.8     462\n1.5     476\n1.3     524\n1.0     644\nName: FG, Length: 125, dtype: int64\n21.9      1\n24.8      1\n25.5      1\n22.9      1\n25.1      1\n       ... \n3.5     245\n4.0     251\n2.0     279\n1.0     283\n3.0     299\nName: FGA, Length: 250, dtype: int64\n0.208      1\n0.716      1\n0.706      1\n0.071      1\n0.236      1\n        ... \n0.429    200\n0.400    215\n0.333    290\n0.000    360\n0.500    371\nName: FG%, Length: 489, dtype: int64\n4.8       1\n3.6       1\n3.8       1\n4.1       1\n4.0       1\n4.2       1\n3.7       1\n5.1       2\n3.5       2\n3.4       3\n3.3       5\n3.1       7\n3.0       8\n3.2       8\n2.9      12\n2.8      18\n2.7      20\n2.6      32\n2.5      43\n2.4      52\n2.3      69\n2.2      76\n2.1      89\n2.0     134\n1.9     158\n1.7     164\n1.8     173\n1.6     235\n1.5     288\n1.4     288\n1.2     326\n1.3     349\n1.1     433\n0.9     481\n1.0     487\n0.8     550\n0.7     554\n0.6     582\n0.5     699\n0.4     744\n0.3     987\n0.2    1045\n0.1    1761\n0.0    8721\nName: 3P, dtype: int64\n9.3        1\n8.7        1\n8.9        1\n8.4        1\n11.2       1\n        ... \n0.4      561\n0.3      808\n0.2      904\n0.1     1949\n0.0     5543\nName: 3PA, Length: 95, dtype: int64\n0.047       1\n0.120       1\n0.493       1\n0.108       1\n0.139       1\n         ... \n0.500     335\n0.200     337\n0.250     420\n0.333     607\n0.000    7012\nName: 3P%, Length: 417, dtype: int64\n11.3      1\n12.1      1\n10.2      1\n12.4      1\n13.2      1\n       ... \n1.3     567\n0.7     570\n0.8     572\n0.9     578\n1.0     726\nName: 2P, Length: 122, dtype: int64\n27.0      1\n22.8      1\n20.7      1\n21.6      1\n23.7      1\n       ... \n1.8     306\n1.5     314\n3.0     343\n2.0     347\n1.0     359\nName: 2PA, Length: 228, dtype: int64\n0.071      1\n0.179      1\n0.737      1\n0.256      1\n0.150      1\n        ... \n0.429    199\n0.400    216\n0.333    274\n0.000    431\n0.500    529\nName: 2P%, Length: 480, dtype: int64\n0.196      1\n0.655      1\n0.708      1\n0.077      1\n0.056      1\n        ... \n0.478    161\n0.480    165\n0.333    203\n0.000    360\n0.500    476\nName: eFG%, Length: 503, dtype: int64\n8.6        1\n9.0        1\n10.2       1\n9.4        1\n9.3        1\n        ... \n0.4      952\n0.6      962\n0.7      993\n0.0     1021\n0.5     1053\nName: FT, Length: 98, dtype: int64\n11.7      1\n13.1      1\n9.6       1\n11.1      1\n12.0      1\n       ... \n0.9     704\n0.7     787\n0.8     823\n0.0     833\n1.0     874\nName: FTA, Length: 120, dtype: int64\n0.319      1\n0.270      1\n0.419      1\n0.988      1\n0.460      1\n        ... \n0.667    425\n0.750    457\n1.000    562\n0.500    616\n0.000    990\nName: FT%, Length: 638, dtype: int64\n5.5       1\n6.9       1\n6.4       1\n6.8       1\n5.8       1\n       ... \n0.6    1144\n0.2    1222\n0.5    1410\n0.4    1490\n0.3    1687\nName: ORB, Length: 64, dtype: int64\n11.6      1\n10.0      1\n11.4      1\n11.5      1\n11.1      1\n       ... \n0.8     560\n1.1     586\n1.5     587\n1.3     627\n1.0     699\nName: DRB, Length: 117, dtype: int64\n14.5      1\n14.4      1\n14.6      1\n14.3      1\n14.9      1\n       ... \n1.5     452\n1.9     454\n1.8     467\n2.0     486\n1.0     537\nName: TRB, Length: 163, dtype: int64\n11.9       1\n13.8       1\n13.9       1\n13.6       1\n14.2       1\n        ... \n0.8      816\n0.6      830\n0.4      903\n0.5      910\n0.3     1037\nName: AST, Length: 131, dtype: int64\n3.1       1\n3.5       1\n3.7       1\n3.2       3\n2.9       8\n3.0       8\n2.8       8\n2.7      13\n2.6      16\n2.5      24\n2.4      29\n2.3      35\n2.2      48\n2.1      62\n1.9      89\n2.0      99\n1.8     148\n1.7     190\n1.6     261\n1.4     321\n1.5     325\n1.3     443\n1.2     578\n1.1     677\n1.0     984\n0.1     998\n0.9    1107\n0.0    1175\n0.8    1312\n0.7    1470\n0.2    1548\n0.6    1711\n0.5    1922\n0.4    1924\n0.3    2073\nName: STL, dtype: int64\n5.6       1\n3.8       1\n6.0       1\n4.2       1\n4.4       1\n4.1       2\n4.6       2\n5.0       2\n4.5       2\n4.0       2\n3.1       4\n4.3       4\n3.9       5\n3.6       5\n3.5       6\n3.4       8\n3.2       9\n3.7       9\n3.3       9\n2.9      12\n2.8      14\n3.0      15\n2.7      22\n2.6      23\n2.5      28\n2.4      30\n2.2      32\n2.3      35\n2.1      52\n1.9      62\n2.0      72\n1.8      85\n1.7     104\n1.6     109\n1.4     146\n1.5     149\n1.2     196\n1.3     203\n1.1     281\n1.0     345\n0.9     388\n0.8     534\n0.7     648\n0.6     826\n0.5    1175\n0.4    1592\n0.3    2341\n0.2    2942\n0.0    3254\n0.1    3823\nName: BLK, dtype: int64\n5.4       1\n4.5       1\n5.0       2\n5.7       2\n4.8       2\n4.3       2\n4.7       3\n4.6       4\n4.2       8\n4.4       8\n4.1      12\n3.9      17\n4.0      22\n3.8      34\n3.7      36\n3.6      50\n3.4      66\n3.5      67\n3.3      76\n3.2     105\n3.1     120\n3.0     151\n2.9     171\n2.8     187\n2.7     192\n0.1     206\n2.6     234\n2.5     254\n2.4     258\n2.3     331\n2.2     351\n2.1     359\n0.2     424\n2.0     426\n1.9     443\n1.8     525\n0.0     564\n1.7     569\n1.6     592\n1.5     705\n1.4     758\n1.2     818\n1.3     856\n0.3     888\n0.4     891\n1.1     936\n0.9    1063\n0.6    1138\n1.0    1139\n0.7    1150\n0.5    1175\n0.8    1220\nName: TOV, dtype: int64\n5.5      1\n4.7      1\n6.0      1\n4.6      1\n5.0      2\n4.8      3\n4.5      4\n4.4      7\n4.3      9\n4.2     15\n4.1     27\n0.1     32\n4.0     51\n3.9     68\n0.2     94\n3.8    101\n3.7    115\n3.6    160\n0.4    184\n3.4    206\n3.5    208\n0.3    226\n3.3    283\n0.0    315\n0.6    325\n3.2    326\n0.5    349\n3.1    354\n0.7    416\n0.9    454\n0.8    469\n2.9    476\n3.0    478\n2.8    563\n1.1    582\n2.7    585\n2.6    626\n1.2    649\n1.4    695\n2.2    708\n1.3    712\n2.4    718\n1.7    723\n2.5    725\n1.0    727\n1.6    783\n1.5    785\n2.1    792\n2.3    814\n1.9    854\n1.8    872\n2.0    938\nName: PF, dtype: int64\n31.2      1\n32.3      1\n31.0      1\n35.4      1\n33.0      1\n       ... \n3.3     208\n4.0     229\n3.0     248\n0.0     269\n2.0     280\nName: PTS, Length: 323, dtype: int64\n"
     ],
     "output_type": "stream"
    }
   ],
   "source": [
    "for name in stats_names:\n",
    "    print(player_stats[name].value_counts(dropna=False, ascending=True))"
   ]
  },
  {
   "cell_type": "code",
   "execution_count": 23,
   "metadata": {
    "pycharm": {
     "is_executing": false
    }
   },
   "outputs": [],
   "source": [
    "player_stats.dropna(subset=['Name', 'Season', 'Age', 'Pos', 'G', 'GS', 'MP'], inplace=True)"
   ]
  },
  {
   "cell_type": "code",
   "execution_count": 5,
   "metadata": {
    "pycharm": {
     "is_executing": false
    }
   },
   "outputs": [
    {
     "data": {
      "text/plain": "(20852, 31)"
     },
     "metadata": {},
     "output_type": "execute_result",
     "execution_count": 5
    }
   ],
   "source": [
    "player_stats.shape"
   ]
  },
  {
   "cell_type": "code",
   "execution_count": 24,
   "metadata": {
    "pycharm": {
     "is_executing": false
    }
   },
   "outputs": [
    {
     "name": "stdout",
     "text": [
      "Khyri Thomas                1\nShai Gilgeous-Alexander     1\nDarryl Johnson              1\nBen Gillery                 1\nJacob Evans                 1\n                           ..\nJoe Smith                  26\nKevin Willis               27\nNazr Mohammed              28\nEddie Johnson              29\nGerald Henderson           29\nName: Name, Length: 2948, dtype: int64\n1980-81     13\n1979-80     13\n1983-84    343\n1984-85    362\n1981-82    373\n1986-87    378\n1985-86    379\n1982-83    391\n1987-88    426\n1988-89    438\n1990-91    441\n1992-93    449\n1994-95    452\n1991-92    458\n1989-90    459\n1993-94    481\n2002-03    483\n1999-00    496\n2001-02    500\n1998-99    507\n2006-07    516\n2000-01    537\n1995-96    545\n1997-98    547\n2011-12    552\n2005-06    563\n1996-97    573\n2012-13    576\n2015-16    578\n2009-10    578\n2008-09    582\n2004-05    585\n2003-04    585\n2007-08    595\n2016-17    595\n2013-14    614\n2010-11    625\n2014-15    652\n2017-18    664\n2018-19    708\nName: Season, dtype: int64\n43       1\n44       1\n42       4\n41       5\n18      12\n40      19\n39      48\n38      96\n19     124\n37     148\n36     213\n35     325\n20     330\n34     487\n21     618\n33     628\n32     815\n31     983\n30    1182\n29    1252\n22    1397\n28    1419\n27    1633\n26    1827\n25    1901\n23    2041\n24    2103\nName: Age, dtype: int64\nNOK      34\nSDC      51\nKCK      61\nCHO      87\nVAN      98\nNOP     132\nBRK     134\nNOH     161\nCHA     183\nOKC     198\nCHH     243\nWSB     256\nMEM     340\nWAS     391\nSEA     411\nTOR     442\nMIN     492\nORL     505\nMIA     525\nNJN     544\nSAC     565\nUTA     581\nIND     585\nLAL     599\nPOR     602\nLAC     610\nDET     612\nCHI     624\nNYK     633\nDEN     635\nDAL     642\nPHO     644\nHOU     646\nATL     653\nBOS     653\nSAS     655\nGSW     659\nMIL     660\nPHI     671\nCLE     673\nTOT    1722\nName: Tm, dtype: int64\nNBA    19612\nName: Lg, dtype: int64\nPG-SF       1\nSG-PF       4\nSF-PF      20\nPF-C       23\nSG-PG      24\nPF-SF      24\nSG-SF      27\nC-PF       28\nPG-SG      29\nSF-SG      30\nSF       3651\nSG       3868\nC        3888\nPG       3903\nPF       4092\nName: Pos, dtype: int64\n85       3\n84       4\n83      17\n34     122\n37     136\n      ... \n78     436\n79     517\n80     698\n81     738\n82    1380\nName: G, Length: 85, dtype: int64\n83       3\n57      61\n44      70\n52      72\n48      75\n      ... \n82     550\n3      582\n2      844\n1     1189\n0     5572\nName: GS, Length: 84, dtype: int64\n41.2      1\n42.1      1\n44.5      1\n42.6      1\n41.7      1\n       ... \n6.0      86\n4.0      87\n12.3     92\n9.0      98\n5.0     104\nName: MP, Length: 422, dtype: int64\n11.9      1\n11.4      1\n13.0      1\n12.7      1\n13.4      1\n       ... \n1.8     462\n0.8     462\n1.5     476\n1.3     524\n1.0     644\nName: FG, Length: 125, dtype: int64\n21.9      1\n24.8      1\n25.5      1\n22.9      1\n25.1      1\n       ... \n3.5     245\n4.0     251\n2.0     279\n1.0     283\n3.0     299\nName: FGA, Length: 250, dtype: int64\n0.208      1\n0.716      1\n0.706      1\n0.071      1\n0.236      1\n        ... \n0.429    200\n0.400    215\n0.333    290\n0.000    360\n0.500    371\nName: FG%, Length: 489, dtype: int64\n4.8       1\n3.6       1\n3.8       1\n4.1       1\n4.0       1\n4.2       1\n3.7       1\n5.1       2\n3.5       2\n3.4       3\n3.3       5\n3.1       7\n3.0       8\n3.2       8\n2.9      12\n2.8      18\n2.7      20\n2.6      32\n2.5      43\n2.4      52\n2.3      69\n2.2      76\n2.1      89\n2.0     134\n1.9     158\n1.7     164\n1.8     173\n1.6     235\n1.5     288\n1.4     288\n1.2     326\n1.3     349\n1.1     433\n0.9     481\n1.0     487\n0.8     550\n0.7     554\n0.6     582\n0.5     699\n0.4     744\n0.3     987\n0.2    1045\n0.1    1761\n0.0    8721\nName: 3P, dtype: int64\n9.3        1\n8.7        1\n8.9        1\n8.4        1\n11.2       1\n        ... \n0.4      561\n0.3      808\n0.2      904\n0.1     1949\n0.0     5543\nName: 3PA, Length: 95, dtype: int64\n0.047       1\n0.120       1\n0.493       1\n0.108       1\n0.139       1\n         ... \n0.500     335\n0.200     337\n0.250     420\n0.333     607\n0.000    7012\nName: 3P%, Length: 417, dtype: int64\n11.3      1\n12.1      1\n10.2      1\n12.4      1\n13.2      1\n       ... \n1.3     567\n0.7     570\n0.8     572\n0.9     578\n1.0     726\nName: 2P, Length: 122, dtype: int64\n27.0      1\n22.8      1\n20.7      1\n21.6      1\n23.7      1\n       ... \n1.8     306\n1.5     314\n3.0     343\n2.0     347\n1.0     359\nName: 2PA, Length: 228, dtype: int64\n0.071      1\n0.179      1\n0.737      1\n0.256      1\n0.150      1\n        ... \n0.429    199\n0.400    216\n0.333    274\n0.000    431\n0.500    529\nName: 2P%, Length: 480, dtype: int64\n0.196      1\n0.655      1\n0.708      1\n0.077      1\n0.056      1\n        ... \n0.478    161\n0.480    165\n0.333    203\n0.000    360\n0.500    476\nName: eFG%, Length: 503, dtype: int64\n8.6        1\n9.0        1\n10.2       1\n9.4        1\n9.3        1\n        ... \n0.4      952\n0.6      962\n0.7      993\n0.0     1021\n0.5     1053\nName: FT, Length: 98, dtype: int64\n11.7      1\n13.1      1\n9.6       1\n11.1      1\n12.0      1\n       ... \n0.9     704\n0.7     787\n0.8     823\n0.0     833\n1.0     874\nName: FTA, Length: 120, dtype: int64\n0.319      1\n0.270      1\n0.419      1\n0.988      1\n0.460      1\n        ... \n0.667    425\n0.750    457\n1.000    562\n0.500    616\n0.000    990\nName: FT%, Length: 638, dtype: int64\n5.5       1\n6.9       1\n6.4       1\n6.8       1\n5.8       1\n       ... \n0.6    1144\n0.2    1222\n0.5    1410\n0.4    1490\n0.3    1687\nName: ORB, Length: 64, dtype: int64\n11.6      1\n10.0      1\n11.4      1\n11.5      1\n11.1      1\n       ... \n0.8     560\n1.1     586\n1.5     587\n1.3     627\n1.0     699\nName: DRB, Length: 117, dtype: int64\n14.5      1\n14.4      1\n14.6      1\n14.3      1\n14.9      1\n       ... \n1.5     452\n1.9     454\n1.8     467\n2.0     486\n1.0     537\nName: TRB, Length: 163, dtype: int64\n11.9       1\n13.8       1\n13.9       1\n13.6       1\n14.2       1\n        ... \n0.8      816\n0.6      830\n0.4      903\n0.5      910\n0.3     1037\nName: AST, Length: 131, dtype: int64\n3.1       1\n3.5       1\n3.7       1\n3.2       3\n2.9       8\n3.0       8\n2.8       8\n2.7      13\n2.6      16\n2.5      24\n2.4      29\n2.3      35\n2.2      48\n2.1      62\n1.9      89\n2.0      99\n1.8     148\n1.7     190\n1.6     261\n1.4     321\n1.5     325\n1.3     443\n1.2     578\n1.1     677\n1.0     984\n0.1     998\n0.9    1107\n0.0    1175\n0.8    1312\n0.7    1470\n0.2    1548\n0.6    1711\n0.5    1922\n0.4    1924\n0.3    2073\nName: STL, dtype: int64\n5.6       1\n3.8       1\n6.0       1\n4.2       1\n4.4       1\n4.1       2\n4.6       2\n5.0       2\n4.5       2\n4.0       2\n3.1       4\n4.3       4\n3.9       5\n3.6       5\n3.5       6\n3.4       8\n3.2       9\n3.7       9\n3.3       9\n2.9      12\n2.8      14\n3.0      15\n2.7      22\n2.6      23\n2.5      28\n2.4      30\n2.2      32\n2.3      35\n2.1      52\n1.9      62\n2.0      72\n1.8      85\n1.7     104\n1.6     109\n1.4     146\n1.5     149\n1.2     196\n1.3     203\n1.1     281\n1.0     345\n0.9     388\n0.8     534\n0.7     648\n0.6     826\n0.5    1175\n0.4    1592\n0.3    2341\n0.2    2942\n0.0    3254\n0.1    3823\nName: BLK, dtype: int64\n5.4       1\n4.5       1\n5.0       2\n5.7       2\n4.8       2\n4.3       2\n4.7       3\n4.6       4\n4.2       8\n4.4       8\n4.1      12\n3.9      17\n4.0      22\n3.8      34\n3.7      36\n3.6      50\n3.4      66\n3.5      67\n3.3      76\n3.2     105\n3.1     120\n3.0     151\n2.9     171\n2.8     187\n2.7     192\n0.1     206\n2.6     234\n2.5     254\n2.4     258\n2.3     331\n2.2     351\n2.1     359\n0.2     424\n2.0     426\n1.9     443\n1.8     525\n0.0     564\n1.7     569\n1.6     592\n1.5     705\n1.4     758\n1.2     818\n1.3     856\n0.3     888\n0.4     891\n1.1     936\n0.9    1063\n0.6    1138\n1.0    1139\n0.7    1150\n0.5    1175\n0.8    1220\nName: TOV, dtype: int64\n5.5      1\n4.7      1\n6.0      1\n4.6      1\n5.0      2\n4.8      3\n4.5      4\n4.4      7\n4.3      9\n4.2     15\n4.1     27\n0.1     32\n4.0     51\n3.9     68\n0.2     94\n3.8    101\n3.7    115\n3.6    160\n0.4    184\n3.4    206\n3.5    208\n0.3    226\n3.3    283\n0.0    315\n0.6    325\n3.2    326\n0.5    349\n3.1    354\n0.7    416\n0.9    454\n0.8    469\n2.9    476\n3.0    478\n2.8    563\n1.1    582\n2.7    585\n2.6    626\n1.2    649\n1.4    695\n2.2    708\n1.3    712\n2.4    718\n1.7    723\n2.5    725\n1.0    727\n1.6    783\n1.5    785\n2.1    792\n2.3    814\n1.9    854\n1.8    872\n2.0    938\nName: PF, dtype: int64\n31.2      1\n32.3      1\n31.0      1\n35.4      1\n33.0      1\n       ... \n3.3     208\n4.0     229\n3.0     248\n0.0     269\n2.0     280\nName: PTS, Length: 323, dtype: int64\n"
     ],
     "output_type": "stream"
    }
   ],
   "source": [
    "for name in stats_names:\n",
    "    print(player_stats[name].value_counts(dropna=False, ascending=True))"
   ]
  },
  {
   "cell_type": "code",
   "execution_count": 7,
   "metadata": {
    "pycharm": {
     "is_executing": false
    }
   },
   "outputs": [
    {
     "name": "stdout",
     "text": [
      "(19612, 31)\n"
     ],
     "output_type": "stream"
    }
   ],
   "source": [
    "right_age = player_stats.iloc[:, 2].str.isdigit()\n",
    "player_stats = player_stats[right_age]\n",
    "print(player_stats.shape)"
   ]
  },
  {
   "cell_type": "code",
   "execution_count": 8,
   "metadata": {
    "scrolled": true,
    "pycharm": {
     "is_executing": false
    }
   },
   "outputs": [
    {
     "data": {
      "text/plain": "Name         0\nSeason       0\nAge          0\nTm           0\nLg           0\nPos          0\nG            0\nGS           0\nMP           0\nFG           0\nFGA          0\nFG%         97\n3P           0\n3PA          0\n3P%       3458\n2P           0\n2PA          0\n2P%        149\neFG%        97\nFT           0\nFTA          0\nFT%        829\nORB          0\nDRB          0\nTRB          0\nAST          0\nSTL          0\nBLK          0\nTOV          0\nPF           0\nPTS          0\ndtype: int64"
     },
     "metadata": {},
     "output_type": "execute_result",
     "execution_count": 8
    }
   ],
   "source": [
    "player_stats.isna().sum()"
   ]
  },
  {
   "cell_type": "code",
   "execution_count": 9,
   "metadata": {
    "pycharm": {
     "is_executing": false
    }
   },
   "outputs": [
    {
     "name": "stdout",
     "text": [
      "(19612, 31)\n"
     ],
     "output_type": "stream"
    }
   ],
   "source": [
    "player_stats.fillna(0, inplace=True)\n",
    "print(player_stats.shape)"
   ]
  },
  {
   "cell_type": "code",
   "execution_count": 10,
   "metadata": {
    "pycharm": {
     "is_executing": false
    }
   },
   "outputs": [
    {
     "name": "stdout",
     "text": [
      "Khyri Thomas                1\nShai Gilgeous-Alexander     1\nDarryl Johnson              1\nBen Gillery                 1\nJacob Evans                 1\n                           ..\nJoe Smith                  26\nKevin Willis               27\nNazr Mohammed              28\nEddie Johnson              29\nGerald Henderson           29\nName: Name, Length: 2948, dtype: int64\n1980-81     13\n1979-80     13\n1983-84    343\n1984-85    362\n1981-82    373\n1986-87    378\n1985-86    379\n1982-83    391\n1987-88    426\n1988-89    438\n1990-91    441\n1992-93    449\n1994-95    452\n1991-92    458\n1989-90    459\n1993-94    481\n2002-03    483\n1999-00    496\n2001-02    500\n1998-99    507\n2006-07    516\n2000-01    537\n1995-96    545\n1997-98    547\n2011-12    552\n2005-06    563\n1996-97    573\n2012-13    576\n2015-16    578\n2009-10    578\n2008-09    582\n2004-05    585\n2003-04    585\n2007-08    595\n2016-17    595\n2013-14    614\n2010-11    625\n2014-15    652\n2017-18    664\n2018-19    708\nName: Season, dtype: int64\n",
      "43       1\n44       1\n42       4\n41       5\n18      12\n40      19\n39      48\n38      96\n19     124\n37     148\n36     213\n35     325\n20     330\n34     487\n21     618\n33     628\n32     815\n31     983\n30    1182\n29    1252\n22    1397\n28    1419\n27    1633\n26    1827\n25    1901\n23    2041\n24    2103\nName: Age, dtype: int64\nNOK      34\nSDC      51\nKCK      61\nCHO      87\nVAN      98\nNOP     132\nBRK     134\nNOH     161\nCHA     183\nOKC     198\nCHH     243\nWSB     256\nMEM     340\nWAS     391\nSEA     411\nTOR     442\nMIN     492\nORL     505\nMIA     525\nNJN     544\nSAC     565\nUTA     581\nIND     585\nLAL     599\nPOR     602\nLAC     610\nDET     612\nCHI     624\nNYK     633\nDEN     635\nDAL     642\nPHO     644\nHOU     646\nATL     653\nBOS     653\nSAS     655\nGSW     659\nMIL     660\nPHI     671\nCLE     673\nTOT    1722\nName: Tm, dtype: int64\nNBA    19612\nName: Lg, dtype: int64\nPG-SF       1\nSG-PF       4\nSF-PF      20\nPF-C       23\nSG-PG      24\nPF-SF      24\nSG-SF      27\nC-PF       28\nPG-SG      29\nSF-SG      30\nSF       3651\nSG       3868\nC        3888\nPG       3903\nPF       4092\nName: Pos, dtype: int64\n85       3\n84       4\n83      17\n34     122\n37     136\n      ... \n78     436\n79     517\n80     698\n81     738\n82    1380\nName: G, Length: 85, dtype: int64\n83       3\n57      61\n44      70\n52      72\n48      75\n      ... \n82     550\n3      582\n2      844\n1     1189\n0     5572\nName: GS, Length: 84, dtype: int64\n41.2      1\n1.4       1\n44.5      1\n42.7      1\n42.6      1\n       ... \n6.0      86\n4.0      87\n12.3     92\n9.0      98\n5.0     104\nName: MP, Length: 422, dtype: int64\n13.0      1\n12.7      1\n11.9      1\n12.2      1\n11.4      1\n       ... \n1.8     462\n0.8     462\n1.5     476\n1.3     524\n1.0     644\nName: FG, Length: 125, dtype: int64",
      "\n22.7      1\n22.9      1\n25.5      1\n24.8      1\n27.2      1\n       ... \n3.5     245\n4.0     251\n2.0     279\n1.0     283\n3.0     299\nName: FGA, Length: 250, dtype: int64\n.629      1\n.731      1\n.229      1\n.706      1\n.716      1\n       ... \n.429    200\n.400    215\n.000    263\n.333    290\n.500    371\nName: FG%, Length: 490, dtype: int64\n4.1       1\n4.2       1\n3.8       1\n4.8       1\n3.7       1\n4.0       1\n3.6       1\n5.1       2\n3.5       2\n3.4       3\n3.3       5\n3.1       7\n3.2       8\n3.0       8\n2.9      12\n2.8      18\n2.7      20\n2.6      32\n2.5      43\n2.4      52\n2.3      69\n2.2      76\n2.1      89\n2.0     134\n1.9     158\n1.7     164\n1.8     173\n1.6     235\n1.4     288\n1.5     288\n1.2     326\n1.3     349\n1.1     433\n0.9     481\n1.0     487\n0.8     550\n0.7     554\n0.6     582\n0.5     699\n0.4     744\n0.3     987\n0.2    1045\n0.1    1761\n0.0    8721\nName: 3P, dtype: int64\n11.7       1\n8.9        1\n8.7        1\n11.2       1\n9.3        1\n        ... \n0.4      561\n0.3      808\n0.2      904\n0.1     1949\n0.0     5543\nName: 3PA, Length: 95, dtype: int64\n.145       1\n.079       1\n.047       1\n.494       1\n.088       1\n        ... \n.200     337\n.250     420\n.333     607\n0       3458\n.000    3554\nName: 3P%, Length: 418, dtype: int64\n11.3      1\n12.1      1\n10.9      1\n13.2      1\n12.5      1\n       ... \n1.3     567\n0.7     570\n0.8     572\n0.9     578\n1.0     726\nName: 2P, Length: 122, dtype: int64\n19.7      1\n24.7      1\n27.0      1\n21.6      1\n22.2      1\n       ... \n1.8     306\n1.5     314\n3.0     343\n2.0     347\n1.0     359\nName: 2PA, Length: 228, dtype: int64\n.706      1\n.716      1\n.699      1\n.298      1\n.205      1\n       ... \n.429    199\n.400    216\n.333    274\n.000    282\n.500    529\nName: 2P%, Length: 481, dtype: int64\n.118      1\n.307      1\n.664      1\n.105      1\n.675      1\n       ... \n.478    161\n.480    165\n.333    203\n.000    263\n.500    476\nName: eFG%, Length: 504, dtype: int64\n",
      "8.6       1\n9.3       1\n9.0       1\n9.5       1\n9.4       1\n       ... \n0.4     952\n0.6     962\n0.7     993\n0.0    1021\n0.5    1053\nName: FT, Length: 98, dtype: int64\n13.1      1\n12.0      1\n11.7      1\n9.6       1\n11.1      1\n       ... \n0.9     704\n0.7     787\n0.8     823\n0.0     833\n1.0     874\nName: FTA, Length: 120, dtype: int64\n.968       1\n.174       1\n.259       1\n.258       1\n.316       1\n        ... \n.667     425\n.750     457\n1.000    562\n.500     616\n0        829\nName: FT%, Length: 639, dtype: int64\n5.8       1\n5.5       1\n6.9       1\n6.4       1\n6.8       1\n       ... \n0.6    1144\n0.2    1222\n0.5    1410\n0.4    1490\n0.3    1687\nName: ORB, Length: 64, dtype: int64\n12.0      1\n11.6      1\n11.4      1\n13.0      1\n10.0      1\n       ... \n0.8     560\n1.1     586\n1.5     587\n1.3     627\n1.0     699\nName: DRB, Length: 117, dtype: int64\n17.3      1\n14.6      1\n18.7      1\n15.5      1\n13.7      1\n       ... \n1.5     452\n1.9     454\n1.8     467\n2.0     486\n1.0     537\nName: TRB, Length: 163, dtype: int64\n13.6       1\n12.0       1\n13.1       1\n13.7       1\n14.5       1\n        ... \n0.8      816\n0.6      830\n0.4      903\n0.5      910\n0.3     1037\nName: AST, Length: 131, dtype: int64\n3.5       1\n3.1       1\n3.7       1\n3.2       3\n2.9       8\n3.0       8\n2.8       8\n2.7      13\n2.6      16\n2.5      24\n2.4      29\n2.3      35\n2.2      48\n2.1      62\n1.9      89\n2.0      99\n1.8     148\n1.7     190\n1.6     261\n1.4     321\n1.5     325\n1.3     443\n1.2     578\n1.1     677\n1.0     984\n0.1     998\n0.9    1107\n0.0    1175\n0.8    1312\n0.7    1470\n0.2    1548\n0.6    1711\n0.5    1922\n0.4    1924\n0.3    2073\nName: STL, dtype: int64\n5.6       1\n3.8       1\n6.0       1\n4.2       1\n4.4       1\n4.1       2\n4.6       2\n5.0       2\n4.5       2\n4.0       2\n3.1       4\n4.3       4\n3.9       5\n3.6       5\n3.5       6\n3.4       8\n3.2       9\n3.7       9\n3.3       9\n2.9      12\n2.8      14\n3.0      15\n2.7      22\n2.6      23\n2.5      28\n2.4      30\n2.2      32\n2.3      35\n2.1      52\n1.9      62\n2.0      72\n1.8      85\n1.7     104\n1.6     109\n1.4     146\n1.5     149\n1.2     196\n1.3     203\n1.1     281\n1.0     345\n0.9     388\n0.8     534\n0.7     648\n0.6     826\n0.5    1175\n0.4    1592\n0.3    2341\n0.2    2942\n0.0    3254\n0.1    3823\nName: BLK, dtype: int64\n5.4       1\n4.5       1\n5.0       2\n5.7       2\n4.8       2\n4.3       2\n4.7       3\n4.6       4\n4.2       8\n4.4       8\n4.1      12\n3.9      17\n4.0      22\n3.8      34\n3.7      36\n3.6      50\n3.4      66\n3.5      67\n3.3      76\n3.2     105\n3.1     120\n3.0     151\n2.9     171\n2.8     187\n2.7     192\n0.1     206\n2.6     234\n2.5     254\n2.4     258\n2.3     331\n2.2     351\n2.1     359\n0.2     424\n2.0     426\n1.9     443\n1.8     525\n0.0     564\n1.7     569\n1.6     592\n1.5     705\n1.4     758\n1.2     818\n1.3     856\n0.3     888\n0.4     891\n1.1     936\n0.9    1063\n0.6    1138\n1.0    1139\n0.7    1150\n0.5    1175\n0.8    1220\nName: TOV, dtype: int64\n4.6      1\n4.7      1\n5.5      1\n6.0      1\n5.0      2\n4.8      3\n4.5      4\n4.4      7\n4.3      9\n4.2     15\n4.1     27\n0.1     32\n4.0     51\n3.9     68\n0.2     94\n3.8    101\n3.7    115\n3.6    160\n0.4    184\n3.4    206\n3.5    208\n0.3    226\n3.3    283\n0.0    315\n0.6    325\n3.2    326\n0.5    349\n3.1    354\n0.7    416\n0.9    454\n0.8    469\n2.9    476\n3.0    478\n2.8    563\n1.1    582\n2.7    585\n2.6    626\n1.2    649\n1.4    695\n2.2    708\n1.3    712\n2.4    718\n1.7    723\n2.5    725\n1.0    727\n1.6    783\n1.5    785\n2.1    792\n2.3    814\n1.9    854\n1.8    872\n2.0    938\nName: PF, dtype: int64\n31.0      1\n31.2      1\n32.3      1\n36.1      1\n30.6      1\n       ... \n3.3     208\n4.0     229\n3.0     248\n0.0     269\n2.0     280\nName: PTS, Length: 323, dtype: int64\n"
     ],
     "output_type": "stream"
    }
   ],
   "source": [
    "for name in stats_names:\n",
    "    print(player_stats[name].value_counts(dropna=False, ascending=True))"
   ]
  },
  {
   "cell_type": "code",
   "execution_count": 11,
   "metadata": {
    "pycharm": {
     "is_executing": false
    }
   },
   "outputs": [
    {
     "name": "stdout",
     "text": [
      "(19612, 31)\n"
     ],
     "output_type": "stream"
    }
   ],
   "source": [
    "right_team = player_stats.iloc[:, 3].str.isalpha()\n",
    "player_stats = player_stats[right_team]\n",
    "print(player_stats.shape)"
   ]
  },
  {
   "cell_type": "code",
   "execution_count": 12,
   "metadata": {
    "pycharm": {
     "is_executing": false
    }
   },
   "outputs": [
    {
     "name": "stdout",
     "text": [
      "(19612, 31)\n"
     ],
     "output_type": "stream"
    }
   ],
   "source": [
    "right_G = player_stats.iloc[:, 6].str.isdigit()\n",
    "player_stats = player_stats[right_G]\n",
    "print(player_stats.shape)"
   ]
  },
  {
   "cell_type": "code",
   "execution_count": 13,
   "metadata": {
    "pycharm": {
     "is_executing": false
    }
   },
   "outputs": [
    {
     "name": "stdout",
     "text": [
      "(19612, 31)\n"
     ],
     "output_type": "stream"
    }
   ],
   "source": [
    "right_Gs = player_stats.iloc[:, 6].str.isdigit()\n",
    "player_stats = player_stats[right_Gs]\n",
    "print(player_stats.shape)"
   ]
  },
  {
   "cell_type": "code",
   "execution_count": 14,
   "metadata": {
    "pycharm": {
     "is_executing": false
    }
   },
   "outputs": [],
   "source": [
    "for col in stats_names:\n",
    "    if col not in {'Name', 'Season', 'Age', 'Tm', 'Lg', 'Pos', 'G', 'GS'}:\n",
    "        player_stats[col] = player_stats[col].apply(pd.to_numeric)"
   ]
  },
  {
   "cell_type": "code",
   "execution_count": 15,
   "metadata": {
    "pycharm": {
     "is_executing": false
    }
   },
   "outputs": [
    {
     "data": {
      "text/plain": "Name       object\nSeason     object\nAge        object\nTm         object\nLg         object\nPos        object\nG          object\nGS         object\nMP        float64\nFG        float64\nFGA       float64\nFG%       float64\n3P        float64\n3PA       float64\n3P%       float64\n2P        float64\n2PA       float64\n2P%       float64\neFG%      float64\nFT        float64\nFTA       float64\nFT%       float64\nORB       float64\nDRB       float64\nTRB       float64\nAST       float64\nSTL       float64\nBLK       float64\nTOV       float64\nPF        float64\nPTS       float64\ndtype: object"
     },
     "metadata": {},
     "output_type": "execute_result",
     "execution_count": 15
    }
   ],
   "source": [
    "player_stats.dtypes"
   ]
  },
  {
   "cell_type": "code",
   "execution_count": 16,
   "metadata": {
    "pycharm": {
     "is_executing": false
    }
   },
   "outputs": [
    {
     "data": {
      "text/plain": "(19612, 31)"
     },
     "metadata": {},
     "output_type": "execute_result",
     "execution_count": 16
    }
   ],
   "source": [
    "player_stats.shape"
   ]
  },
  {
   "cell_type": "code",
   "execution_count": 17,
   "metadata": {
    "pycharm": {
     "is_executing": false
    }
   },
   "outputs": [
    {
     "data": {
      "text/plain": "(19612, 31)"
     },
     "metadata": {},
     "output_type": "execute_result",
     "execution_count": 17
    }
   ],
   "source": [
    "player_stats.dropna(inplace=True)\n",
    "player_stats.shape"
   ]
  },
  {
   "cell_type": "code",
   "execution_count": 18,
   "metadata": {
    "pycharm": {
     "is_executing": false
    }
   },
   "outputs": [
    {
     "name": "stdout",
     "text": [
      "Empty DataFrame\nColumns: [Name, Season, Age, Tm, Lg, Pos, G, GS, MP, FG, FGA, FG%, 3P, 3PA, 3P%, 2P, 2PA, 2P%, eFG%, FT, FTA, FT%, ORB, DRB, TRB, AST, STL, BLK, TOV, PF, PTS]\nIndex: []\n"
     ],
     "output_type": "stream"
    }
   ],
   "source": [
    "print(player_stats[player_stats['FGA'] < player_stats['FG']])"
   ]
  },
  {
   "cell_type": "code",
   "execution_count": 19,
   "metadata": {
    "pycharm": {
     "is_executing": false
    }
   },
   "outputs": [
    {
     "name": "stdout",
     "text": [
      "Empty DataFrame\nColumns: [Name, Season, Age, Tm, Lg, Pos, G, GS, MP, FG, FGA, FG%, 3P, 3PA, 3P%, 2P, 2PA, 2P%, eFG%, FT, FTA, FT%, ORB, DRB, TRB, AST, STL, BLK, TOV, PF, PTS]\nIndex: []\n"
     ],
     "output_type": "stream"
    }
   ],
   "source": [
    "print(player_stats[(player_stats['FG%'] > 1) | (player_stats['FG%'] < 0)])"
   ]
  },
  {
   "cell_type": "code",
   "execution_count": 20,
   "metadata": {
    "pycharm": {
     "is_executing": false
    }
   },
   "outputs": [
    {
     "name": "stdout",
     "text": [
      "Empty DataFrame\nColumns: [Name, Season, Age, Tm, Lg, Pos, G, GS, MP, FG, FGA, FG%, 3P, 3PA, 3P%, 2P, 2PA, 2P%, eFG%, FT, FTA, FT%, ORB, DRB, TRB, AST, STL, BLK, TOV, PF, PTS]\nIndex: []\n"
     ],
     "output_type": "stream"
    }
   ],
   "source": [
    "print(player_stats[player_stats['FG%'] > 1])"
   ]
  },
  {
   "cell_type": "code",
   "execution_count": 21,
   "metadata": {
    "pycharm": {
     "is_executing": false
    }
   },
   "outputs": [],
   "source": [
    "# player_stats.to_csv('player_stats_cleaned.csv', index=False)"
   ]
  },
  {
   "cell_type": "code",
   "execution_count": 21,
   "metadata": {
    "pycharm": {
     "is_executing": false
    }
   },
   "outputs": [],
   "source": []
  }
 ],
 "metadata": {
  "kernelspec": {
   "display_name": "Python 3",
   "language": "python",
   "name": "python3"
  },
  "language_info": {
   "codemirror_mode": {
    "name": "ipython",
    "version": 3
   },
   "file_extension": ".py",
   "mimetype": "text/x-python",
   "name": "python",
   "nbconvert_exporter": "python",
   "pygments_lexer": "ipython3",
   "version": "3.7.3"
  },
  "pycharm": {
   "stem_cell": {
    "cell_type": "raw",
    "source": [],
    "metadata": {
     "collapsed": false
    }
   }
  }
 },
 "nbformat": 4,
 "nbformat_minor": 2
}